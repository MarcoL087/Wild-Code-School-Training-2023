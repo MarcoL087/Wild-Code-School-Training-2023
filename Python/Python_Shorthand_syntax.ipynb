{
  "nbformat": 4,
  "nbformat_minor": 0,
  "metadata": {
    "colab": {
      "provenance": []
    },
    "kernelspec": {
      "name": "python3",
      "display_name": "Python 3"
    },
    "language_info": {
      "name": "python"
    }
  },
  "cells": [
    {
      "cell_type": "markdown",
      "source": [
        "1. Réalise chacune des missions suivantes avec une syntaxe classique et ensuite avec une syntaxe courte en une seule ligne."
      ],
      "metadata": {
        "id": "Surs8LsrDVnO"
      }
    },
    {
      "cell_type": "code",
      "execution_count": null,
      "metadata": {
        "colab": {
          "base_uri": "https://localhost:8080/"
        },
        "id": "tjGkEjn-CjEA",
        "outputId": "f044a313-b2a6-4f04-f1c6-acffb4267278"
      },
      "outputs": [
        {
          "output_type": "execute_result",
          "data": {
            "text/plain": [
              "6.51"
            ]
          },
          "metadata": {},
          "execution_count": 2
        }
      ],
      "source": [
        "# Une fonction qui convertit des montants en dollars vers des montants en euros\n",
        "\n",
        "def dollar_to_euros(x):\n",
        "  return round((x*0.93),2)\n",
        "\n",
        "dollar_to_euros(7)"
      ]
    },
    {
      "cell_type": "code",
      "source": [
        "(lambda x: round((x*0.93),2))(7)"
      ],
      "metadata": {
        "colab": {
          "base_uri": "https://localhost:8080/"
        },
        "id": "o2nxgfdFDfUZ",
        "outputId": "92601b47-0c63-4d65-b355-6d528e69d416"
      },
      "execution_count": null,
      "outputs": [
        {
          "output_type": "execute_result",
          "data": {
            "text/plain": [
              "6.51"
            ]
          },
          "metadata": {},
          "execution_count": 5
        }
      ]
    },
    {
      "cell_type": "code",
      "source": [
        "# Une fonction qui renvoie la somme des nombres pairs présents dans une liste contenant des nombres entiers.\n",
        "\n",
        "list = [5, 7, 12, 10, 9, 22, 6, 18]\n",
        "\n",
        "def sum_even_number(list):\n",
        "  total = 0\n",
        "  for number in list:\n",
        "    if number % 2 == 0:\n",
        "      total += number\n",
        "  return total\n",
        "\n",
        "sum_even_number(list)"
      ],
      "metadata": {
        "colab": {
          "base_uri": "https://localhost:8080/"
        },
        "id": "5G9IXAWLDsfr",
        "outputId": "a33c22d6-c276-43b4-d958-80195b1bd1c6"
      },
      "execution_count": null,
      "outputs": [
        {
          "output_type": "execute_result",
          "data": {
            "text/plain": [
              "68"
            ]
          },
          "metadata": {},
          "execution_count": 12
        }
      ]
    },
    {
      "cell_type": "code",
      "source": [
        "list = [5, 7, 12, 10, 9, 22, 6, 18]\n",
        "\n",
        "sum(number for number in list if number % 2 == 0)"
      ],
      "metadata": {
        "colab": {
          "base_uri": "https://localhost:8080/"
        },
        "id": "RnmC5X-hF1qF",
        "outputId": "6482013a-8b01-47fa-b717-9d1ae79f985a"
      },
      "execution_count": null,
      "outputs": [
        {
          "output_type": "execute_result",
          "data": {
            "text/plain": [
              "68"
            ]
          },
          "metadata": {},
          "execution_count": 17
        }
      ]
    },
    {
      "cell_type": "code",
      "source": [
        "# Une fonction qui convertit une liste de nombres entiers positifs ou négatifs) en une nouvelle liste contenant leurs valeurs absolues.\n",
        "\n",
        "test_list = [0, 3, -6, 9, 12, -15, 18, -21, 24, 27]\n",
        "\n",
        "def abs_number(list):\n",
        "  total = []\n",
        "  for nombre in list:\n",
        "      total.append((nombre ** 2) ** 0.5)\n",
        "  return total\n",
        "\n",
        "abs_number(test_list)\n"
      ],
      "metadata": {
        "colab": {
          "base_uri": "https://localhost:8080/"
        },
        "id": "eXoLf226Hpbl",
        "outputId": "5d1dd91a-2929-4bac-f645-b05f8a6dff8c"
      },
      "execution_count": null,
      "outputs": [
        {
          "output_type": "execute_result",
          "data": {
            "text/plain": [
              "[0.0, 3.0, 6.0, 9.0, 12.0, 15.0, 18.0, 21.0, 24.0, 27.0]"
            ]
          },
          "metadata": {},
          "execution_count": 1
        }
      ]
    },
    {
      "cell_type": "code",
      "source": [
        "\n",
        "test_list = [0, 3, -6, 9, 12, -15, 18, -21, 24, 27]\n",
        "\n",
        "tot = [abs(number) for number in test_list]\n",
        "\n",
        "tot"
      ],
      "metadata": {
        "colab": {
          "base_uri": "https://localhost:8080/"
        },
        "id": "mNQpDh8jGtNF",
        "outputId": "38146784-3c6b-497c-dabe-dae1c7a7bbc5"
      },
      "execution_count": null,
      "outputs": [
        {
          "output_type": "execute_result",
          "data": {
            "text/plain": [
              "[0, 3, 6, 9, 12, 15, 18, 21, 24, 27]"
            ]
          },
          "metadata": {},
          "execution_count": 3
        }
      ]
    }
  ]
}