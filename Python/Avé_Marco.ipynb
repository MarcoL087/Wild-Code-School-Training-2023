{
  "nbformat": 4,
  "nbformat_minor": 0,
  "metadata": {
    "colab": {
      "provenance": []
    },
    "kernelspec": {
      "name": "python3",
      "display_name": "Python 3"
    },
    "language_info": {
      "name": "python"
    }
  },
  "cells": [
    {
      "cell_type": "code",
      "execution_count": null,
      "metadata": {
        "colab": {
          "base_uri": "https://localhost:8080/"
        },
        "id": "zbZtOnQnSADX",
        "outputId": "17c8e249-aca5-411e-9d87-e7adb9f2045b"
      },
      "outputs": [
        {
          "output_type": "stream",
          "name": "stdout",
          "text": [
            "felicitations, cesar serait fier de toi, si seulement il connaissait python\n"
          ]
        }
      ],
      "source": [
        "phrase = \"mlspjpahapvuz, jlzhy zlyhpa mply kl avp, zp zlbsltlua ps jvuuhpzzhpa wfaovu\"\n",
        "\n",
        "alphabet = [\"a\", \"b\", \"c\", \"d\", \"e\", \"f\", \"g\", \"h\", \"i\", \"j\", \"k\",\n",
        "            \"l\", \"m\", \"n\", \"o\", \"p\", \"q\", \"r\", \"s\", \"t\", \"u\", \"v\",\n",
        "            \"w\", \"x\", \"y\", \"z\"]\n",
        "\n",
        "new_phrase = \"\"\n",
        "\n",
        "for i in phrase:\n",
        "  if i in alphabet:\n",
        "    index = alphabet.index(i)\n",
        "    new_letter = alphabet[index-7]\n",
        "    new_phrase = new_phrase + new_letter\n",
        "  else:\n",
        "    new_letter = i\n",
        "    new_phrase = new_phrase + new_letter\n",
        "\n",
        "print(new_phrase)\n",
        "\n"
      ]
    }
  ]
}