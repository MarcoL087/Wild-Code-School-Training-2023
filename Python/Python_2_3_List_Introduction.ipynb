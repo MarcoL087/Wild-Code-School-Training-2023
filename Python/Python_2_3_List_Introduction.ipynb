{
  "nbformat": 4,
  "nbformat_minor": 0,
  "metadata": {
    "colab": {
      "provenance": []
    },
    "kernelspec": {
      "name": "python3",
      "display_name": "Python 3"
    },
    "language_info": {
      "name": "python"
    }
  },
  "cells": [
    {
      "cell_type": "markdown",
      "source": [
        "# Mission 1"
      ],
      "metadata": {
        "id": "uDlWe7PiBUjB"
      }
    },
    {
      "cell_type": "markdown",
      "source": [
        "For each cell, execute the code and answer the question before moving on to the next."
      ],
      "metadata": {
        "id": "Cp5MIVdGBwBW"
      }
    },
    {
      "cell_type": "code",
      "execution_count": null,
      "metadata": {
        "id": "C66ySw9N3hfc",
        "colab": {
          "base_uri": "https://localhost:8080/"
        },
        "outputId": "adf3d1b6-cabb-4587-a963-936cd8cde9a3"
      },
      "outputs": [
        {
          "output_type": "stream",
          "name": "stdout",
          "text": [
            "(0, 'Fredy')\n",
            "(1, 'Nicolas')\n",
            "(2, 'Alexandre')\n",
            "<class 'tuple'>\n"
          ]
        }
      ],
      "source": [
        "names = [\"Fredy\", \"Nicolas\", \"Alexandre\"]\n",
        "\n",
        "for i in enumerate(names):\n",
        "  print(i)\n",
        "print(type(i))"
      ]
    },
    {
      "cell_type": "markdown",
      "source": [
        "1. What type of object is returned as output?  \n",
        "Hint: You can use `type(i)`."
      ],
      "metadata": {
        "id": "m0NGV7X-B5Q6"
      }
    },
    {
      "cell_type": "markdown",
      "source": [
        "Answer: Tuple\n"
      ],
      "metadata": {
        "id": "ZbegLZzxFOY_"
      }
    },
    {
      "cell_type": "code",
      "source": [
        "for i, val in enumerate(names):\n",
        "  print(i)\n",
        "print(type(i))"
      ],
      "metadata": {
        "colab": {
          "base_uri": "https://localhost:8080/"
        },
        "id": "Jj_-QG4fBsth",
        "outputId": "49a8ed4c-d8bd-4d78-a7e1-f2862f331bb2"
      },
      "execution_count": null,
      "outputs": [
        {
          "output_type": "stream",
          "name": "stdout",
          "text": [
            "0\n",
            "1\n",
            "2\n",
            "<class 'int'>\n"
          ]
        }
      ]
    },
    {
      "cell_type": "code",
      "source": [
        "for i, val in enumerate(names):\n",
        "  print(val)\n",
        "print(type(val))\n"
      ],
      "metadata": {
        "colab": {
          "base_uri": "https://localhost:8080/"
        },
        "id": "mONbGEMtCe5S",
        "outputId": "8c8a9474-994f-4993-fe02-89134cc12bab"
      },
      "execution_count": null,
      "outputs": [
        {
          "output_type": "stream",
          "name": "stdout",
          "text": [
            "Fredy\n",
            "Nicolas\n",
            "Alexandre\n",
            "<class 'str'>\n"
          ]
        }
      ]
    },
    {
      "cell_type": "markdown",
      "source": [
        "2. What does `i` correspond to?\n",
        "The first variable shows the index of the item in the list\n",
        "\n",
        "What does `val` correspond to?  \n",
        "The second variable shows the item itself in the list\n",
        "\n",
        "Why is it so? It's the main use of the enumerate() function"
      ],
      "metadata": {
        "id": "O1J3Y5xICnyE"
      }
    },
    {
      "cell_type": "markdown",
      "source": [
        "Answer:"
      ],
      "metadata": {
        "id": "Hra3BMoSFSAp"
      }
    },
    {
      "cell_type": "code",
      "source": [
        "for val, i in enumerate(names):\n",
        "  print(i)\n"
      ],
      "metadata": {
        "colab": {
          "base_uri": "https://localhost:8080/"
        },
        "id": "ygXVIZftChbD",
        "outputId": "f42ecc62-2c88-4f82-b946-fed00dd6d95b"
      },
      "execution_count": null,
      "outputs": [
        {
          "output_type": "stream",
          "name": "stdout",
          "text": [
            "Fredy\n",
            "Nicolas\n",
            "Alexandre\n"
          ]
        }
      ]
    },
    {
      "cell_type": "code",
      "source": [
        "for val, i in enumerate(names):\n",
        "  print(val)\n"
      ],
      "metadata": {
        "colab": {
          "base_uri": "https://localhost:8080/"
        },
        "id": "OaKBK889C9Q1",
        "outputId": "3a4e70ee-01ec-4771-8bcf-701cbc9293d9"
      },
      "execution_count": null,
      "outputs": [
        {
          "output_type": "stream",
          "name": "stdout",
          "text": [
            "0\n",
            "1\n",
            "2\n"
          ]
        }
      ]
    },
    {
      "cell_type": "markdown",
      "source": [
        "3. This time, `i` returns first names and `val` returns numbers. Why is it so?\n",
        "\n",
        "because is not important how we call a variable, its position will define the utilisation with enumerate()"
      ],
      "metadata": {
        "id": "YhhuOPblDIqq"
      }
    },
    {
      "cell_type": "markdown",
      "source": [
        "4. What does the built in function `enumerate` do?\n",
        "In what cases can it be useful?"
      ],
      "metadata": {
        "id": "PKGOxIHVDWGW"
      }
    },
    {
      "cell_type": "markdown",
      "source": [
        "Answer:\n",
        "It takes a collection and returns it as an enumerate object.\n",
        "It also adds a counter to each item of the iterable object and returns an enumerate object as an output string.\n",
        "It allows us to write more efficient and readable code, making it easier to keep track of the current index within a loop."
      ],
      "metadata": {
        "id": "wURNpEH8FTrg"
      }
    },
    {
      "cell_type": "markdown",
      "source": [
        "# Mission 2"
      ],
      "metadata": {
        "id": "pCDLjuMPDk_D"
      }
    },
    {
      "cell_type": "code",
      "source": [
        "test_list = ['Hi', 'my', 'name', 'is', \"hi\", \"my\",\"name\", \"is\", \"chickychicky\"]\n",
        "\n",
        "test_list[8] = \"Marshall\"\n",
        "\n",
        "test_list"
      ],
      "metadata": {
        "colab": {
          "base_uri": "https://localhost:8080/"
        },
        "id": "OUicSHpGDHQB",
        "outputId": "c2a3823d-1bf4-418b-d1d5-3071078d5a85"
      },
      "execution_count": null,
      "outputs": [
        {
          "output_type": "execute_result",
          "data": {
            "text/plain": [
              "['Hi', 'my', 'name', 'is', 'hi', 'my', 'name', 'is', 'Marshall']"
            ]
          },
          "metadata": {},
          "execution_count": 20
        }
      ]
    },
    {
      "cell_type": "markdown",
      "source": [
        "1. What does the 8 in square brackets mean?\n",
        "\n",
        "It's the position of the element in the list\n",
        "\n",
        "\n",
        "What action has been performed?\n",
        "\n",
        "Replace the element"
      ],
      "metadata": {
        "id": "5vU7vFyJFjf_"
      }
    },
    {
      "cell_type": "code",
      "source": [
        "for i in range(4):\n",
        "  print(test_list[i])\n"
      ],
      "metadata": {
        "colab": {
          "base_uri": "https://localhost:8080/"
        },
        "id": "JZVPh9XuFfOD",
        "outputId": "fc36ecf1-c810-4c17-decb-cd176eae3731"
      },
      "execution_count": null,
      "outputs": [
        {
          "output_type": "stream",
          "name": "stdout",
          "text": [
            "Hi\n",
            "my\n",
            "name\n",
            "is\n"
          ]
        }
      ]
    },
    {
      "cell_type": "markdown",
      "source": [
        "2. What does `range(4)` mean?\n",
        "\n",
        "Why are only the first 4 elements of `test_list` displayed?"
      ],
      "metadata": {
        "id": "BVh-q0nmGHhB"
      }
    },
    {
      "cell_type": "markdown",
      "source": [
        "Answer: 2. It's the stop of the range.\n",
        "Because the range will stop at the 4th item of the list"
      ],
      "metadata": {
        "id": "l2mfg-LtIZD1"
      }
    },
    {
      "cell_type": "code",
      "source": [
        "for i in range(2,8,2):\n",
        "  print(test_list[i])\n"
      ],
      "metadata": {
        "colab": {
          "base_uri": "https://localhost:8080/"
        },
        "id": "FcgJYEnxFwZJ",
        "outputId": "81cdc331-c176-491a-9adb-26b990d282a3"
      },
      "execution_count": null,
      "outputs": [
        {
          "output_type": "stream",
          "name": "stdout",
          "text": [
            "name\n",
            "hi\n",
            "name\n"
          ]
        }
      ]
    },
    {
      "cell_type": "markdown",
      "source": [
        "3. What does `range(2,8,2)` mean ?  \n",
        "Why are only the elements 'name', 'hi' and 'name' displayed?"
      ],
      "metadata": {
        "id": "VO83ul-zGvFY"
      }
    },
    {
      "cell_type": "markdown",
      "source": [
        "Answer: Start, stop, step.\n",
        "\n",
        "Because the starte ou our range will be the 2nd item, the end will be the 8th.\n",
        "the range function will proceed by following the step in the list"
      ],
      "metadata": {
        "id": "IFp2-uyVIaPS"
      }
    },
    {
      "cell_type": "markdown",
      "source": [
        "# Mission 3"
      ],
      "metadata": {
        "id": "VUR6EDHmHAbn"
      }
    },
    {
      "cell_type": "code",
      "source": [
        "numbers = [2,3,1,5,9]\n",
        "\n",
        "for i in range(10,15):\n",
        "  numbers.append(i)\n",
        "\n",
        "numbers"
      ],
      "metadata": {
        "colab": {
          "base_uri": "https://localhost:8080/"
        },
        "id": "DsNTsY3iGecu",
        "outputId": "263c9ddc-f2ef-44c2-d074-5264b23a5732"
      },
      "execution_count": null,
      "outputs": [
        {
          "output_type": "execute_result",
          "data": {
            "text/plain": [
              "[2, 3, 1, 5, 9, 10, 11, 12, 13, 14]"
            ]
          },
          "metadata": {},
          "execution_count": 29
        }
      ]
    },
    {
      "cell_type": "markdown",
      "source": [
        "1. What does `range(10,15)` mean ?  \n",
        "  What is the purpose of the method `append()` ?\n",
        "\n",
        "  "
      ],
      "metadata": {
        "id": "QsekBYrWHwQR"
      }
    },
    {
      "cell_type": "markdown",
      "source": [
        "Answer:\n",
        "it'a a range that will start from 10 and ends to 15.\n",
        "append() will add something at end of the list."
      ],
      "metadata": {
        "id": "JT4kKPPWIczy"
      }
    },
    {
      "cell_type": "code",
      "source": [
        "del numbers[0]\n",
        "\n",
        "numbers"
      ],
      "metadata": {
        "colab": {
          "base_uri": "https://localhost:8080/"
        },
        "id": "Ca5Mj5riHvAt",
        "outputId": "6ee78168-781b-4e60-c1dc-358f17913e1d"
      },
      "execution_count": null,
      "outputs": [
        {
          "output_type": "execute_result",
          "data": {
            "text/plain": [
              "[3, 1, 5, 9, 10, 11, 12, 13, 14]"
            ]
          },
          "metadata": {},
          "execution_count": 30
        }
      ]
    },
    {
      "cell_type": "markdown",
      "source": [
        "2. What is the purpose of the `del` command?"
      ],
      "metadata": {
        "id": "v23Vk1pcIGM0"
      }
    },
    {
      "cell_type": "markdown",
      "source": [
        "Answer:\n",
        "It allows to delete an item into a list thanks to its index"
      ],
      "metadata": {
        "id": "N4xgFRi4IFfr"
      }
    },
    {
      "cell_type": "markdown",
      "source": [
        "# Mission 4"
      ],
      "metadata": {
        "id": "Kfh_ZpPVIi2i"
      }
    },
    {
      "cell_type": "code",
      "source": [
        "import random\n",
        "\n",
        "random.randint(0,10)"
      ],
      "metadata": {
        "colab": {
          "base_uri": "https://localhost:8080/"
        },
        "id": "VOe2C7USID1Y",
        "outputId": "acc85d89-998e-4679-9c96-7064060e34f0"
      },
      "execution_count": null,
      "outputs": [
        {
          "output_type": "execute_result",
          "data": {
            "text/plain": [
              "5"
            ]
          },
          "metadata": {},
          "execution_count": 31
        }
      ]
    },
    {
      "cell_type": "markdown",
      "source": [
        "1. What can the method `randint()` do ?"
      ],
      "metadata": {
        "id": "XlwR6lHYJRK0"
      }
    },
    {
      "cell_type": "markdown",
      "source": [
        "Answer:\n",
        "It generates a random number based on the seed value"
      ],
      "metadata": {
        "id": "RhahQkQgJhA0"
      }
    },
    {
      "cell_type": "code",
      "source": [
        "numbers.insert(5, \"hey hey hey\")\n",
        "numbers"
      ],
      "metadata": {
        "colab": {
          "base_uri": "https://localhost:8080/"
        },
        "id": "dBEHENePJKF_",
        "outputId": "eb827b6c-96aa-46ba-8464-dd157f7a88b3"
      },
      "execution_count": null,
      "outputs": [
        {
          "output_type": "execute_result",
          "data": {
            "text/plain": [
              "[3, 1, 5, 9, 10, 'hey hey hey', 11, 12, 13, 14]"
            ]
          },
          "metadata": {},
          "execution_count": 32
        }
      ]
    },
    {
      "cell_type": "markdown",
      "source": [
        "2. What can the method `.insert()` do ?  \n",
        "You must answer using the terms 'parameter' and 'argument'."
      ],
      "metadata": {
        "id": "jnrvSzWOJ0ro"
      }
    },
    {
      "cell_type": "markdown",
      "source": [
        "Answer:\n",
        "The insert() method inserts the specific argument that will replace a parameter of the list."
      ],
      "metadata": {
        "id": "F1s_PSgTKYMO"
      }
    },
    {
      "cell_type": "markdown",
      "source": [
        "# Mission 5"
      ],
      "metadata": {
        "id": "05RWlwppKZfA"
      }
    },
    {
      "cell_type": "code",
      "source": [
        "test_list = ['Hi', 'my', 'name', 'is', \"hi\", \"my\",\"name\", \"is\", \"chickychicky\"]\n",
        "\n",
        "test_list = \" \".join(test_list)\n",
        "\n",
        "test_list\n",
        "print(type(test_list))"
      ],
      "metadata": {
        "colab": {
          "base_uri": "https://localhost:8080/"
        },
        "id": "N7uoWox_KPRW",
        "outputId": "5936a5fe-3628-4f3a-efe0-5d6834ae87fd"
      },
      "execution_count": null,
      "outputs": [
        {
          "output_type": "stream",
          "name": "stdout",
          "text": [
            "<class 'str'>\n"
          ]
        }
      ]
    },
    {
      "cell_type": "markdown",
      "source": [
        "1. What can the `.join()` method do?  \n",
        "What is the type of `test_list` before using `.join()`?  \n",
        "What is the type of `test_list` after using `.join()`?"
      ],
      "metadata": {
        "id": "dRXmNBFSLRnv"
      }
    },
    {
      "cell_type": "markdown",
      "source": [
        "Answer:\n",
        "It takes all items in an iterable and joins them into one string.\n",
        "At the beginning is a list, then a str"
      ],
      "metadata": {
        "id": "0-5Ci6OiXxZ8"
      }
    },
    {
      "cell_type": "code",
      "source": [
        "christmas = \"Noël c'est bien, mais attention à ne pas manger trop de chocolat. On le sait, mais on le fais à chaque fois. C'est la vie\"\n",
        "\n",
        "christmas.split()\n"
      ],
      "metadata": {
        "colab": {
          "base_uri": "https://localhost:8080/"
        },
        "id": "kesRy9ZrLFFF",
        "outputId": "bf8df32a-91b4-4967-943f-fd208a39ecca"
      },
      "execution_count": null,
      "outputs": [
        {
          "output_type": "execute_result",
          "data": {
            "text/plain": [
              "['Noël',\n",
              " \"c'est\",\n",
              " 'bien,',\n",
              " 'mais',\n",
              " 'attention',\n",
              " 'à',\n",
              " 'ne',\n",
              " 'pas',\n",
              " 'manger',\n",
              " 'trop',\n",
              " 'de',\n",
              " 'chocolat.',\n",
              " 'On',\n",
              " 'le',\n",
              " 'sait,',\n",
              " 'mais',\n",
              " 'on',\n",
              " 'le',\n",
              " 'fais',\n",
              " 'à',\n",
              " 'chaque',\n",
              " 'fois.',\n",
              " \"C'est\",\n",
              " 'la',\n",
              " 'vie']"
            ]
          },
          "metadata": {},
          "execution_count": 3
        }
      ]
    },
    {
      "cell_type": "markdown",
      "source": [
        "2. What can the `.split()` method do?  \n",
        "What is the type of `christmas` before using `.split()`?  \n",
        "What is the type of `christmas` after using `.split()`?"
      ],
      "metadata": {
        "id": "seiR7Cp5MgMA"
      }
    },
    {
      "cell_type": "markdown",
      "source": [
        "Answer:\n",
        "Split is used to break a delimited string into substrings. str to list"
      ],
      "metadata": {
        "id": "LrUVxQJFXvwG"
      }
    },
    {
      "cell_type": "code",
      "source": [
        "christmas = \"Noël c'est bien, mais attention à ne pas manger trop de chocolat. On le sait, mais on le fais à chaque fois. C'est la vie\"\n",
        "\n",
        "\n",
        "christmas.split(\"à\")"
      ],
      "metadata": {
        "colab": {
          "base_uri": "https://localhost:8080/"
        },
        "id": "Ta5-JE99MV7F",
        "outputId": "816aa913-2463-4780-e337-8d442ae8df99"
      },
      "execution_count": null,
      "outputs": [
        {
          "output_type": "execute_result",
          "data": {
            "text/plain": [
              "[\"Noël c'est bien, mais attention \",\n",
              " ' ne pas manger trop de chocolat. On le sait, mais on le fais ',\n",
              " \" chaque fois. C'est la vie\"]"
            ]
          },
          "metadata": {},
          "execution_count": 43
        }
      ]
    },
    {
      "cell_type": "markdown",
      "source": [
        "3. Why does the `.split()` method split the `string` into 3 elements?"
      ],
      "metadata": {
        "id": "hfyAmMrONAWj"
      }
    },
    {
      "cell_type": "markdown",
      "source": [
        "Answer:\n",
        "the function will use the the specified character as delimitation of the list"
      ],
      "metadata": {
        "id": "Oe7KBC_tXtma"
      }
    }
  ]
}