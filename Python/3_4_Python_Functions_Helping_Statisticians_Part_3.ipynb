{
  "nbformat": 4,
  "nbformat_minor": 0,
  "metadata": {
    "colab": {
      "provenance": []
    },
    "kernelspec": {
      "name": "python3",
      "display_name": "Python 3"
    }
  },
  "cells": [
    {
      "cell_type": "markdown",
      "metadata": {
        "id": "zsHobPhC3ffd"
      },
      "source": [
        "\n",
        "## Mathematical functions that need coding\n",
        "![Find x](https://www.mathwarehouse.com/jokes/images/find-x-funny-math-image-joke.webp)\n",
        "\n",
        "**Now the statisticians are begging you to code ready-made math functions for them. Below are the functions they use most often. Code the functions in the cells below:**\n",
        "\n",
        "- Square of a number: Create a function that returns the square of a number.\n",
        "- Cube of a number: Create a function that returns the cube of a number.\n",
        "- Absolute value: Create a function that returns the absolute value of a number.\n",
        "- Factorial of a number: Create a function that returns the factorial of a number.\n",
        "- Mode of a list of numbers: Create a function that returns the mode of a list of numbers, for instance [68, 99, 65, 44, 77, 44, 44] --> 44.\n",
        "- Average of a list of numbers: Create a function that returns the average of a list of numbers.\n",
        "- Minimum of a list of numbers: Create a function that returns the minimum from within a list of numbers.\n",
        "- Maximum of a list of numbers: Create a function that returns the maximum from within a list of numbers.\n",
        "\n",
        "**Yes, all those functions already exist in dedicated modules, and you may not reuse them, unfortunately: you may only use loops, conditionals, basic structures, `len`, addition, subtraction, multiplication, division and powers.**\n",
        "\n",
        "**Don't forget to test your functions with at least two possible cases!**"
      ]
    },
    {
      "cell_type": "markdown",
      "source": [
        "Optional Question: Create a function that returns the mode of a list of numbers when more than one modal value is present in a given data set. For example [68, 68, 68, 99, 65, 44, 77, 44, 44] --> [68, 44]"
      ],
      "metadata": {
        "id": "l7a_3Ouqptmf"
      }
    },
    {
      "cell_type": "code",
      "source": [
        "#square number\n",
        "\n",
        "number = int(input(\"Choose a number : \"))\n",
        "\n",
        "def square_number(number) :\n",
        " return  number*number\n",
        "\n",
        "print(\"The square number of \", number, \" is \", square_number(number))"
      ],
      "metadata": {
        "id": "2_z1MSfHuK1K",
        "colab": {
          "base_uri": "https://localhost:8080/"
        },
        "outputId": "ce5381ab-2016-437d-ebcc-283f1aac1e28"
      },
      "execution_count": null,
      "outputs": [
        {
          "output_type": "stream",
          "name": "stdout",
          "text": [
            "Choose a number : 7\n",
            "The square number of  7  is  49\n"
          ]
        }
      ]
    },
    {
      "cell_type": "code",
      "source": [
        "#cube number\n",
        "\n",
        "number = int(input(\"Choose a number : \"))\n",
        "\n",
        "def cube_number(number) :\n",
        "  return number**3\n",
        "\n",
        "print(\"The cube number of \", number, \" is \", cube_number(number))"
      ],
      "metadata": {
        "colab": {
          "base_uri": "https://localhost:8080/"
        },
        "id": "Cy4uPyLL52bJ",
        "outputId": "7e0a403b-8969-41d2-a73f-8d8138428461"
      },
      "execution_count": null,
      "outputs": [
        {
          "output_type": "stream",
          "name": "stdout",
          "text": [
            "Choose a number : 5\n",
            "The cube number of  5  is  125\n"
          ]
        }
      ]
    },
    {
      "cell_type": "code",
      "source": [
        "#absolute value\n",
        "\n",
        "number_y = int(input(\"Choose a number : \"))\n",
        "\n",
        "def my_abs(value):\n",
        "    if value<0:\n",
        "        return -value\n",
        "    return value\n",
        "\n",
        "absolute_num = my_abs(number_y)\n",
        "\n",
        "print(\"The absolute number of \", number_y, \" is \", absolute_num)"
      ],
      "metadata": {
        "colab": {
          "base_uri": "https://localhost:8080/"
        },
        "id": "_o6MoxWL9OeA",
        "outputId": "62676f8b-5e1b-4561-86a2-6789dd9b3956"
      },
      "execution_count": null,
      "outputs": [
        {
          "output_type": "stream",
          "name": "stdout",
          "text": [
            "Choose a number : -5\n",
            "The absolute number of  -5  is  5\n"
          ]
        }
      ]
    },
    {
      "cell_type": "code",
      "source": [
        "#Factorial of a number\n",
        "\n",
        "number = int(input(\"Choose a number : \"))\n",
        "\n",
        "\n",
        "def my_fact(n):\n",
        "\n",
        "              if n == 1:\n",
        "\n",
        "                             return n\n",
        "\n",
        "              elif n < 1:\n",
        "\n",
        "                return (\"Wrong input\")\n",
        "\n",
        "              else:\n",
        "\n",
        "                return n*my_fact (n-1)\n",
        "\n",
        "\n",
        "print(\"Factorial of the given number is: \", my_fact(number))"
      ],
      "metadata": {
        "colab": {
          "base_uri": "https://localhost:8080/"
        },
        "id": "mg0ij03y_fsX",
        "outputId": "bed8c0cb-4419-466a-a057-0f41168e5382"
      },
      "execution_count": null,
      "outputs": [
        {
          "output_type": "stream",
          "name": "stdout",
          "text": [
            "Choose a number : 5\n",
            "Factorial of the given number is:  120\n"
          ]
        }
      ]
    },
    {
      "cell_type": "code",
      "source": [
        "#Mode of a list of numbers\n",
        "\n",
        "def my_mode(ls):\n",
        "    counts = {}\n",
        "    for item in ls:\n",
        "        if item in counts:\n",
        "            counts[item] += 1\n",
        "        else:\n",
        "            counts[item] = 1\n",
        "    return [key for key in counts.keys() if counts[key] == max(counts.values())]\n",
        "\n",
        "my_mode([2,2,4,5,6,2,3,3,5,3])"
      ],
      "metadata": {
        "colab": {
          "base_uri": "https://localhost:8080/"
        },
        "id": "CRkCnR5XAQ7g",
        "outputId": "e4c7b14e-b590-42eb-efd5-80e729af456d"
      },
      "execution_count": null,
      "outputs": [
        {
          "output_type": "execute_result",
          "data": {
            "text/plain": [
              "[2, 3]"
            ]
          },
          "metadata": {},
          "execution_count": 16
        }
      ]
    },
    {
      "cell_type": "code",
      "source": [
        "#Average of a list of numbers\n",
        "\n",
        "inp_lst = [27, 39, 58, 38, 25, 112, -1, 18]\n",
        "\n",
        "def my_avg(numbers):\n",
        "    \"\"\"\n",
        "    Calculate the average of a list of numbers.\n",
        "\n",
        "    Parameters:\n",
        "    - numbers (list): A list of numerical values.\n",
        "\n",
        "    Returns:\n",
        "    - float: The average of the numbers.\n",
        "    \"\"\"\n",
        "    if not numbers:\n",
        "        return None  # Return None for an empty list to avoid division by zero\n",
        "\n",
        "    total = sum(numbers)\n",
        "    average = total / len(numbers)\n",
        "    return average\n",
        "\n",
        "\n",
        "#sum_lst = sum(inp_lst)\n",
        "\n",
        "#lst_avg = sum_lst/len(inp_lst)\n",
        "print(\"Average value of the list: \", my_avg(inp_lst))\n"
      ],
      "metadata": {
        "colab": {
          "base_uri": "https://localhost:8080/"
        },
        "id": "qWFXvn6fFUT3",
        "outputId": "2ce25b7d-e2f2-40b5-87d9-ffd29cd09f15"
      },
      "execution_count": null,
      "outputs": [
        {
          "output_type": "stream",
          "name": "stdout",
          "text": [
            "Average value of the list:  39.5\n"
          ]
        }
      ]
    },
    {
      "cell_type": "code",
      "source": [
        "#Minimum of a list of numbers\n",
        "\n",
        "inp_lst = [27, 39, 58, 38, 25, 112, -1, 18]\n",
        "\n",
        "def my_min(numbers):\n",
        "    \"\"\"\n",
        "    Find the minimum value in a list of numbers without using the min function.\n",
        "\n",
        "    Parameters:\n",
        "    - numbers (list): A list of numerical values.\n",
        "\n",
        "    Returns:\n",
        "    - float or int: The minimum value in the list.\n",
        "    \"\"\"\n",
        "    if not numbers:\n",
        "        return None  # Return None for an empty list\n",
        "\n",
        "    minimum_value = numbers[0]  # Assume the first element is the minimum\n",
        "\n",
        "    for num in numbers:\n",
        "        if num < minimum_value:\n",
        "            minimum_value = num\n",
        "\n",
        "    return minimum_value\n",
        "\n",
        "print(\"Minimum value is: \", my_min(inp_lst))"
      ],
      "metadata": {
        "colab": {
          "base_uri": "https://localhost:8080/"
        },
        "id": "UDPzUJzsGx_H",
        "outputId": "ad3332db-621c-4e22-dedb-69b36608c28d"
      },
      "execution_count": null,
      "outputs": [
        {
          "output_type": "stream",
          "name": "stdout",
          "text": [
            "Minimum value is:  -1\n"
          ]
        }
      ]
    },
    {
      "cell_type": "code",
      "source": [
        "#Max of a list of numbers\n",
        "\n",
        "inp_lst = [27, 39, 58, 38, 25, 112, -1, 18]\n",
        "\n",
        "def my_max(arr, max_=None):\n",
        "    if(max_ is None):\n",
        "        max_ = arr.pop()\n",
        "    current = arr.pop()\n",
        "    if(current > max_):\n",
        "        max_ = current\n",
        "    if(arr):\n",
        "        return my_max(arr, max_)\n",
        "    return max_\n",
        "\n",
        "result = my_max(inp_lst)\n",
        "print(\"Maximum value is: \", result)"
      ],
      "metadata": {
        "colab": {
          "base_uri": "https://localhost:8080/"
        },
        "id": "Ma-NIIUtKhot",
        "outputId": "ec4a49e8-148d-4d78-a689-008890e98979"
      },
      "execution_count": null,
      "outputs": [
        {
          "output_type": "stream",
          "name": "stdout",
          "text": [
            "Maximum value is:  112\n"
          ]
        }
      ]
    }
  ]
}