{
  "nbformat": 4,
  "nbformat_minor": 0,
  "metadata": {
    "colab": {
      "provenance": []
    },
    "kernelspec": {
      "name": "python3",
      "display_name": "Python 3"
    },
    "language_info": {
      "name": "python"
    }
  },
  "cells": [
    {
      "cell_type": "markdown",
      "source": [
        "# Mission 1"
      ],
      "metadata": {
        "id": "wcVz1afOARJ_"
      }
    },
    {
      "cell_type": "markdown",
      "source": [
        "Create a function that returns the sum of 3 + 3 when executed.  \n",
        "You must use the `return` statement."
      ],
      "metadata": {
        "id": "m5NmUj_rATHM"
      }
    },
    {
      "cell_type": "code",
      "source": [
        "def addition():\n",
        "  x=3\n",
        "  y=3\n",
        "  total= x + y\n",
        "  return total\n",
        "\n",
        "print(\"The total is : \", addition())"
      ],
      "metadata": {
        "id": "8gEjrOlffrfh",
        "colab": {
          "base_uri": "https://localhost:8080/"
        },
        "outputId": "e774a1e2-d952-4d1d-995c-8ca6bfcad960"
      },
      "execution_count": null,
      "outputs": [
        {
          "output_type": "stream",
          "name": "stdout",
          "text": [
            "The total is :  6\n"
          ]
        }
      ]
    },
    {
      "cell_type": "code",
      "source": [
        "def addition():\n",
        "  return 3+3\n",
        "addition()"
      ],
      "metadata": {
        "colab": {
          "base_uri": "https://localhost:8080/"
        },
        "id": "ijQH9mAHbFsG",
        "outputId": "20d9ebe7-d83e-4041-c21e-1523d2d7117c"
      },
      "execution_count": null,
      "outputs": [
        {
          "output_type": "execute_result",
          "data": {
            "text/plain": [
              "6"
            ]
          },
          "metadata": {},
          "execution_count": 33
        }
      ]
    },
    {
      "cell_type": "markdown",
      "source": [
        "# Mission 2"
      ],
      "metadata": {
        "id": "NTH39Am4EvLo"
      }
    },
    {
      "cell_type": "markdown",
      "source": [
        "Create a function that returns the sum of two numbers.  \n",
        "The user of the function must be able to sum two numbers of his choice, when the function is executed.  \n",
        "You must not use `input`.  \n"
      ],
      "metadata": {
        "id": "m9q2VGmlC3bI"
      }
    },
    {
      "cell_type": "code",
      "source": [
        "num_1= int(input(\"Choose the first number : \"))\n",
        "num_2= int(input(\"Choose the second number : \"))\n",
        "\n",
        "def addition():\n",
        "  global num_1, num_2\n",
        "  total= num_1 + num_2\n",
        "  return total\n",
        "\n",
        "print(\"The total is : \", addition())"
      ],
      "metadata": {
        "id": "vtnKjX6MOoWc",
        "colab": {
          "base_uri": "https://localhost:8080/"
        },
        "outputId": "d46cb192-9ca2-48b4-fda4-cca64989d0b9"
      },
      "execution_count": null,
      "outputs": [
        {
          "output_type": "stream",
          "name": "stdout",
          "text": [
            "Choose the first number : 5\n",
            "Choose the second number : 7\n",
            "The total is :  12\n"
          ]
        }
      ]
    },
    {
      "cell_type": "markdown",
      "source": [
        "Question:   \n",
        "What is a parameter in a function?"
      ],
      "metadata": {
        "id": "o9gEnSiBESZz"
      }
    },
    {
      "cell_type": "markdown",
      "source": [
        "Answer:\n",
        "is the variable listed inside the parentheses in the function definition\n"
      ],
      "metadata": {
        "id": "xdOl1wFCEf9M"
      }
    },
    {
      "cell_type": "markdown",
      "source": [
        "# Mission 3"
      ],
      "metadata": {
        "id": "JfvzWKRsE02-"
      }
    },
    {
      "cell_type": "markdown",
      "source": [
        "Create a function that returns the sum of two numbers chosen by the user of the function, in a sentence.  \n",
        "For example:  \n",
        "`new_sum_2(3,8)` returns `\"The sum of 3 + 8 is equal to 11.\"`"
      ],
      "metadata": {
        "id": "A_xh0sExE5Tc"
      }
    },
    {
      "cell_type": "code",
      "source": [
        "num_1= int(input(\"Choose the first number : \"))\n",
        "num_2= int(input(\"Choose the second number : \"))\n",
        "\n",
        "def addition():\n",
        "  global num_1, num_2\n",
        "  total= num_1 + num_2\n",
        "  return total\n",
        "print(\"The sum of \", num_1, \"+\", num_2, \"is equal to : \", addition())\n"
      ],
      "metadata": {
        "id": "MjKg8VUwOssU",
        "colab": {
          "base_uri": "https://localhost:8080/"
        },
        "outputId": "e4c5c3ea-1ab5-4426-acaa-b1bff8574fd7"
      },
      "execution_count": null,
      "outputs": [
        {
          "output_type": "stream",
          "name": "stdout",
          "text": [
            "Choose the first number : 5\n",
            "Choose the second number : 7\n",
            "The sum of  5 + 7 is equal to :  12\n"
          ]
        }
      ]
    },
    {
      "cell_type": "markdown",
      "source": [
        "# Mission 4\n",
        "\n",
        "Create a function that returns 2 objects when executed:\n",
        "* An object that will be the product of two numbers chosen by the user of the function.\n",
        "* A word chosen by the user of the function."
      ],
      "metadata": {
        "id": "2TTBtBSlGVH7"
      }
    },
    {
      "cell_type": "code",
      "source": [
        "num_1= int(input(\"Choose the first number : \"))\n",
        "num_2= int(input(\"Choose the second number : \"))\n",
        "word_1= (input(\"Choose a word : \"))\n",
        "\n",
        "def my_tuple():\n",
        "  global num_1, num_2, word_1\n",
        "  total= num_1 + num_2\n",
        "  return total, word_1\n",
        "\n",
        "my_tuple()"
      ],
      "metadata": {
        "id": "VB9TcvHlOt4x",
        "colab": {
          "base_uri": "https://localhost:8080/"
        },
        "outputId": "46c54a58-5572-4c20-d92a-68abe858c54a"
      },
      "execution_count": null,
      "outputs": [
        {
          "name": "stdout",
          "output_type": "stream",
          "text": [
            "Choose the first number : 7\n",
            "Choose the second number : 12\n",
            "Choose a word : hi\n"
          ]
        },
        {
          "output_type": "execute_result",
          "data": {
            "text/plain": [
              "(19, 'hi')"
            ]
          },
          "metadata": {},
          "execution_count": 43
        }
      ]
    },
    {
      "cell_type": "markdown",
      "source": [
        "Your result must be two objects that are in brackets.  \n",
        "This is a tuple.\n",
        "\n",
        "Question:  \n",
        "Why is the returned object a tuple that contains two objects?  \n",
        "\n",
        "Answer:  because we asked to return two objects together. It is actually the comma which makes a tuple in this case, not the parentheses\n"
      ],
      "metadata": {
        "id": "IDsLOssWIiaF"
      }
    },
    {
      "cell_type": "markdown",
      "source": [
        "# Mission 5\n",
        "\n",
        "Create a function that returns the sum of two numbers when executed.  \n",
        "Also, your function must return a sentence that simply indicates if the sum of the two numbers chosen by the user is:\n",
        "* less than 10\n",
        "* between 10 and 50\n",
        "* greater than 50  \n",
        "Again, you must use `return`."
      ],
      "metadata": {
        "id": "BFuKSzy5JR4P"
      }
    },
    {
      "cell_type": "code",
      "source": [
        "num_1= int(input(\"Choose the first number : \"))\n",
        "num_2= int(input(\"Choose the second number : \"))\n",
        "\n",
        "def addiction():\n",
        "  global num_1, num_2\n",
        "  total= num_1 + num_2\n",
        "  return total\n",
        "\n",
        "def sum_1():\n",
        "  if addiction() <= 10:\n",
        "    return(print(\"the sum is less than 10\"))\n",
        "  elif addiction() > 50:\n",
        "    return(print(\"the sum is greater than 50\"))\n",
        "  else:\n",
        "    return(print(\"the sum is between 10 and 50\"))\n",
        "\n",
        "sum_1()"
      ],
      "metadata": {
        "id": "i-vc47F_O0oQ",
        "colab": {
          "base_uri": "https://localhost:8080/"
        },
        "outputId": "f5312f66-9e6a-4b45-aa2d-a1561cb4049a"
      },
      "execution_count": null,
      "outputs": [
        {
          "output_type": "stream",
          "name": "stdout",
          "text": [
            "Choose the first number : 14\n",
            "Choose the second number : 12\n",
            "the sum is between 10 and 50\n"
          ]
        }
      ]
    }
  ]
}