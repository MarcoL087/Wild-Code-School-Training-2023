{
  "nbformat": 4,
  "nbformat_minor": 0,
  "metadata": {
    "colab": {
      "provenance": []
    },
    "kernelspec": {
      "name": "python3",
      "display_name": "Python 3"
    },
    "language_info": {
      "name": "python"
    }
  },
  "cells": [
    {
      "cell_type": "code",
      "source": [
        "borne1 = int(input(\"Borne inférieure : \"))\n",
        "borne2 = int(input(\"Borne supérieure : \"))\n",
        "x = int(input(\"Chiffre : \"))\n",
        "if x <= borne2 :\n",
        "   print (\"Tu as entré\", x, \"plus petit que \", borne1,\", la borne inférieure\")\n",
        "   print (\"Résultat : \", borne1)\n",
        "elif x >= borne1 :\n",
        "   print (\"Tu as entré\", x, \"plus grand que \", borne2,\", la borne supérieure\")\n",
        "   print (\"Résultat : \", borne2)\n",
        "else:\n",
        "   print (\"Tu as entré\", x, \"qui est dans l'intervalle\")\n",
        "   print (\"Résultat :\", x)"
      ],
      "metadata": {
        "colab": {
          "base_uri": "https://localhost:8080/"
        },
        "id": "6Zvy9izfV4nC",
        "outputId": "dde4e242-7923-49db-8d3b-f49f5689efc6"
      },
      "execution_count": null,
      "outputs": [
        {
          "output_type": "stream",
          "name": "stdout",
          "text": [
            "Borne inférieure : -50\n",
            "Borne supérieure : 40\n",
            "Chiffre : 50\n",
            "Tu as entré 50 plus grand que  40 , la borne supérieure\n",
            "Résultat :  40\n"
          ]
        }
      ]
    },
    {
      "cell_type": "code",
      "source": [
        "borne1 = int(input(\"Borne inférieure : \"))\n",
        "borne2 = int(input(\"Borne supérieure : \"))\n",
        "x = int(input(\"Chiffre : \"))\n",
        "if x <= borne1 :\n",
        "   print (\"Tu as entré\", x, \"plus petit que \", borne1,\", la borne inférieure\")\n",
        "   print (\"Résultat : \", borne1)\n",
        "elif x >= borne2 :\n",
        "   print (\"Tu as entré\", x, \"plus grand que \", borne2,\", la borne supérieure\")\n",
        "   print (\"Résultat : \", borne2)\n",
        "else:\n",
        "   print (\"Tu as entré\", x, \"qui est dans l'intervalle\")\n",
        "   print (\"Résultat :\", x)"
      ],
      "metadata": {
        "id": "MAeVYL7mSh4M",
        "colab": {
          "base_uri": "https://localhost:8080/"
        },
        "outputId": "c4f9b058-05bd-44c3-d464-8ccfafd81639"
      },
      "execution_count": null,
      "outputs": [
        {
          "output_type": "stream",
          "name": "stdout",
          "text": [
            "Borne inférieure : -20\n",
            "Borne supérieure : 20\n",
            "Chiffre : 10\n",
            "Tu as entré 10 qui est dans l'intervalle\n",
            "Résultat : 10\n"
          ]
        }
      ]
    },
    {
      "cell_type": "code",
      "source": [
        "borne1 = int(input(\"Borne inférieure : \"))\n",
        "borne2 = int(input(\"Borne supérieure : \"))\n",
        "x = int(input(\"Chiffre : \"))\n",
        "if x <= borne1 :\n",
        "   print (\"Tu as entré\", x, \"plus petit que \", borne1,\", la borne inférieure\")\n",
        "   print (\"Résultat : \",borne1)\n",
        "elif x >= borne2 :\n",
        "   print (\"Tu as entré\", x, \"plus grand que \", borne2,\", la borne supérieure\")\n",
        "   print (\"Résultat : \",borne2)\n",
        "else:\n",
        "   print (\"Tu as entré\", x, \",qui est dans l'intervalle\")\n",
        "   print (\"Résultat :\", x)\n"
      ],
      "metadata": {
        "id": "HKelUjb1TyBm",
        "colab": {
          "base_uri": "https://localhost:8080/"
        },
        "outputId": "2d98d70d-bfbc-4832-99a9-0b727627a215"
      },
      "execution_count": null,
      "outputs": [
        {
          "output_type": "stream",
          "name": "stdout",
          "text": [
            "Borne inférieure : 15\n",
            "Borne supérieure : 45\n",
            "Chiffre : 8\n",
            "Tu as entré 8 plus petit que  15 , la borne inférieure\n",
            "Résultat :  15\n"
          ]
        }
      ]
    }
  ]
}