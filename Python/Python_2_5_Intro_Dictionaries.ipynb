{
  "nbformat": 4,
  "nbformat_minor": 0,
  "metadata": {
    "colab": {
      "provenance": []
    },
    "kernelspec": {
      "name": "python3",
      "display_name": "Python 3"
    },
    "language_info": {
      "name": "python"
    }
  },
  "cells": [
    {
      "cell_type": "markdown",
      "source": [
        "# Mission 1"
      ],
      "metadata": {
        "id": "GnOC-cJNPhqT"
      }
    },
    {
      "cell_type": "markdown",
      "source": [
        "For each cell, execute the code and answer the question before moving on to the next."
      ],
      "metadata": {
        "id": "6pev7z8cPjQm"
      }
    },
    {
      "cell_type": "code",
      "execution_count": null,
      "metadata": {
        "id": "379gShMVPCPq",
        "colab": {
          "base_uri": "https://localhost:8080/"
        },
        "outputId": "584e15a2-a36e-4d61-9b5e-ad9cc349f19e"
      },
      "outputs": [
        {
          "output_type": "stream",
          "name": "stdout",
          "text": [
            "Gontran\n",
            "Jason\n",
            "Ayoub\n"
          ]
        }
      ],
      "source": [
        "people = {\"Gontran\": 23,\n",
        "          \"Jason\": 42,\n",
        "          \"Ayoub\": 27}\n",
        "\n",
        "\n",
        "for i in people:\n",
        "  print(i)"
      ]
    },
    {
      "cell_type": "markdown",
      "source": [
        "1. What does `i` correspond to?\n",
        "To answer, you must use the terms \"keys\" and \"values\"."
      ],
      "metadata": {
        "id": "vw8yuf7tQDbq"
      }
    },
    {
      "cell_type": "markdown",
      "source": [
        "Answer:\n",
        "The firt value correspond to the key, in this case i"
      ],
      "metadata": {
        "id": "UR4AbpccRVQz"
      }
    },
    {
      "cell_type": "code",
      "source": [
        "for i in people.keys():\n",
        "  print(i)"
      ],
      "metadata": {
        "colab": {
          "base_uri": "https://localhost:8080/"
        },
        "id": "CloGcYxOP4oO",
        "outputId": "de158d6e-bf1e-4681-8bfb-518dbae949db"
      },
      "execution_count": null,
      "outputs": [
        {
          "output_type": "stream",
          "name": "stdout",
          "text": [
            "Gontran\n",
            "Jason\n",
            "Ayoub\n"
          ]
        }
      ]
    },
    {
      "cell_type": "code",
      "source": [
        "for i in people.values():\n",
        "  print(i)"
      ],
      "metadata": {
        "colab": {
          "base_uri": "https://localhost:8080/"
        },
        "id": "BhZZfzsPQUAd",
        "outputId": "648fdfe6-865a-4c0e-e6e6-d3a68dafcabb"
      },
      "execution_count": null,
      "outputs": [
        {
          "output_type": "stream",
          "name": "stdout",
          "text": [
            "23\n",
            "42\n",
            "27\n"
          ]
        }
      ]
    },
    {
      "cell_type": "markdown",
      "source": [
        "2. What does `i` correspond to in the second last cell?  \n",
        "What does `i` in the last cell correspond to?  \n",
        "Why do you ask?"
      ],
      "metadata": {
        "id": "DHwSkjFHQdwS"
      }
    },
    {
      "cell_type": "markdown",
      "source": [
        "Answer:\n",
        "i correspond to the keys in the second last cell, to the values in the last. That depends on de function we are using"
      ],
      "metadata": {
        "id": "4l2U2pjoRW5u"
      }
    },
    {
      "cell_type": "code",
      "source": [
        "for i in people.items():\n",
        "  print(i)"
      ],
      "metadata": {
        "colab": {
          "base_uri": "https://localhost:8080/"
        },
        "id": "8Mb2vDh0QXn7",
        "outputId": "e0d5be18-44a9-4861-ca17-55e1a84b08e7"
      },
      "execution_count": null,
      "outputs": [
        {
          "output_type": "stream",
          "name": "stdout",
          "text": [
            "('Gontran', 23)\n",
            "('Jason', 42)\n",
            "('Ayoub', 27)\n"
          ]
        }
      ]
    },
    {
      "cell_type": "markdown",
      "source": [
        "3. What is the type of object returned here called?"
      ],
      "metadata": {
        "id": "UKrfp8bCQtVn"
      }
    },
    {
      "cell_type": "markdown",
      "source": [
        "Answer: item"
      ],
      "metadata": {
        "id": "6kDQ8bFdRZRE"
      }
    },
    {
      "cell_type": "code",
      "source": [
        "for i, age in people.items():\n",
        "  print(age)"
      ],
      "metadata": {
        "colab": {
          "base_uri": "https://localhost:8080/"
        },
        "id": "_iYs9W16RGWp",
        "outputId": "1c1c3177-d9f1-42a2-fa97-bcca5180060f"
      },
      "execution_count": null,
      "outputs": [
        {
          "output_type": "stream",
          "name": "stdout",
          "text": [
            "23\n",
            "42\n",
            "27\n"
          ]
        }
      ]
    },
    {
      "cell_type": "markdown",
      "source": [
        "4. Here I can recover the age of the people. How could I retrieve their names?"
      ],
      "metadata": {
        "id": "KQpdCOebRNJK"
      }
    },
    {
      "cell_type": "markdown",
      "source": [
        "Answer: if we want only the names, we should just erase age and print i. the value in the first position correspond to the key, even if we are calling it i. Othervise we should change the function"
      ],
      "metadata": {
        "id": "x8nO6JzBRalQ"
      }
    },
    {
      "cell_type": "markdown",
      "source": [
        "# Mission 2\n",
        "\n"
      ],
      "metadata": {
        "id": "RtvppsDKR5hb"
      }
    },
    {
      "cell_type": "code",
      "source": [
        "people = {\"Gontran\": 23,\n",
        "          \"Jason\": 42,\n",
        "          \"Ayoub\": \"27\",\n",
        "          \"Léo\": [10,20,30],\n",
        "          \"Rosario\": {\"Juan\": 3,\n",
        "                      \"Camelia\": 6}}\n",
        "\n",
        "\n",
        "for i in people.values():\n",
        "  print(type(i))"
      ],
      "metadata": {
        "colab": {
          "base_uri": "https://localhost:8080/"
        },
        "id": "TcMSZ21vQbVg",
        "outputId": "3290662d-bf6b-49a2-b67a-7a58348040aa"
      },
      "execution_count": null,
      "outputs": [
        {
          "output_type": "stream",
          "name": "stdout",
          "text": [
            "<class 'int'>\n",
            "<class 'int'>\n",
            "<class 'str'>\n",
            "<class 'list'>\n",
            "<class 'dict'>\n"
          ]
        }
      ]
    },
    {
      "cell_type": "markdown",
      "source": [
        "1. Does the above code allow me to confirm that I can have values of different types within a dictionary?"
      ],
      "metadata": {
        "id": "A4iiS6uISakz"
      }
    },
    {
      "cell_type": "markdown",
      "source": [
        "Answer: A dictionary's key can be of any type: string, integer, a list, another dictionary, boolean, etc."
      ],
      "metadata": {
        "id": "-0kPgxMTSt78"
      }
    },
    {
      "cell_type": "markdown",
      "source": [
        "2. Can I have keys of different types within a dictionary?\n"
      ],
      "metadata": {
        "id": "zKPh5-cSSvWU"
      }
    },
    {
      "cell_type": "markdown",
      "source": [
        "Answer:\n",
        "keys must be of an immutable type: Int, Float, Tuple, String etc."
      ],
      "metadata": {
        "id": "-3UI-e0OS7B4"
      }
    },
    {
      "cell_type": "code",
      "source": [
        "people[\"Ayoub\"] = int(people[\"Ayoub\"])\n",
        "\n",
        "for i in people.values():\n",
        "  print(type(i))"
      ],
      "metadata": {
        "colab": {
          "base_uri": "https://localhost:8080/"
        },
        "id": "kuyirBaJSUjc",
        "outputId": "1a6a16f3-9788-4694-9c91-e5da70e0e7e9"
      },
      "execution_count": null,
      "outputs": [
        {
          "output_type": "stream",
          "name": "stdout",
          "text": [
            "<class 'int'>\n",
            "<class 'int'>\n",
            "<class 'int'>\n"
          ]
        }
      ]
    },
    {
      "cell_type": "markdown",
      "source": [
        "3. What did the above code allow me to do?"
      ],
      "metadata": {
        "id": "kT7N2rbNTTQn"
      }
    },
    {
      "cell_type": "markdown",
      "source": [
        "Answer: switch to int"
      ],
      "metadata": {
        "id": "wgqE52glTXCQ"
      }
    },
    {
      "cell_type": "markdown",
      "source": [
        "# Mission 3"
      ],
      "metadata": {
        "id": "4EqIZsMMUJGz"
      }
    },
    {
      "cell_type": "code",
      "source": [
        "groups = {\"groupe_1\": [\"Lam\", \"Ghizlaine\", \"Khaled\", \"Florian\"],\n",
        "          \"groupe_2\": [\"Lucile\", \"Mbaye\", \"Cécile\", \"Rohan\"],\n",
        "          \"groupe_3\": [\"Agathe\", \"Charlotte\", \"Charles\", \"Maxime\"],\n",
        "          \"groupe_4\": [\"Gaelle\", \"Linh\", \"Meral\"]}\n",
        "\n",
        "\n",
        "for i in groups.values():\n",
        "  print(i[0])"
      ],
      "metadata": {
        "colab": {
          "base_uri": "https://localhost:8080/"
        },
        "id": "5MhipD7vUJ-C",
        "outputId": "848459b6-2d93-4506-d04d-b95cdc59b635"
      },
      "execution_count": null,
      "outputs": [
        {
          "output_type": "stream",
          "name": "stdout",
          "text": [
            "Lam\n",
            "Lucile\n",
            "Agathe\n",
            "Gaelle\n"
          ]
        }
      ]
    },
    {
      "cell_type": "markdown",
      "source": [
        "1. What is the type of each value?  \n",
        "How do I get into each list?"
      ],
      "metadata": {
        "id": "icbZnQreUcgu"
      }
    },
    {
      "cell_type": "markdown",
      "source": [
        "Answer: list. by using [position]"
      ],
      "metadata": {
        "id": "Pu4q1UrAYrFT"
      }
    },
    {
      "cell_type": "code",
      "source": [
        "groups = {\"groupe_1\": [\"Lam\", \"Ghizlaine\", \"Khaled\", \"Florian\"],\n",
        "          \"groupe_2\": [\"Lucile\", \"Mbaye\", \"Cécile\", \"Rohan\"],\n",
        "          \"groupe_3\": [\"Agathe\", \"Charlotte\", \"Charles\", \"Maxime\"],\n",
        "          \"groupe_4\": [\"Gaelle\", \"Linh\", \"Meral\"]}\n",
        "for i in groups.values():\n",
        "  for v in i:\n",
        "    print(v)"
      ],
      "metadata": {
        "colab": {
          "base_uri": "https://localhost:8080/"
        },
        "id": "3OZb9do4UWp7",
        "outputId": "81b232a6-433d-40c4-cc41-63493d12239d"
      },
      "execution_count": null,
      "outputs": [
        {
          "output_type": "stream",
          "name": "stdout",
          "text": [
            "Lam\n",
            "Ghizlaine\n",
            "Khaled\n",
            "Florian\n",
            "Lucile\n",
            "Mbaye\n",
            "Cécile\n",
            "Rohan\n",
            "Agathe\n",
            "Charlotte\n",
            "Charles\n",
            "Maxime\n",
            "Gaelle\n",
            "Linh\n",
            "Meral\n"
          ]
        }
      ]
    },
    {
      "cell_type": "markdown",
      "source": [
        "2. How did I get into each list?  \n",
        "Take the time to explain your reasoning for answering this question."
      ],
      "metadata": {
        "id": "M31rg5ryV0Hc"
      }
    },
    {
      "cell_type": "markdown",
      "source": [
        "Answer:"
      ],
      "metadata": {
        "id": "F-ec2gWwYxCi"
      }
    },
    {
      "cell_type": "code",
      "source": [],
      "metadata": {
        "id": "-uz3VPFOVxrQ"
      },
      "execution_count": null,
      "outputs": []
    }
  ]
}