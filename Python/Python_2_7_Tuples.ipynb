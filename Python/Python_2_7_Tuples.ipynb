{
  "nbformat": 4,
  "nbformat_minor": 0,
  "metadata": {
    "colab": {
      "provenance": []
    },
    "kernelspec": {
      "name": "python3",
      "display_name": "Python 3"
    }
  },
  "cells": [
    {
      "cell_type": "markdown",
      "metadata": {
        "id": "LoJw-LlCTnWF"
      },
      "source": [
        "# Mission 1\n",
        "\n",
        "Create a tuple of your choice containing 10 elements in this order:\n",
        "- 3 integers\n",
        "- 3 strings\n",
        "- 2 lists containing 3 items each\n",
        "- 2 dictionaries containing 3 items (3 key/value pairs) each\n"
      ]
    },
    {
      "cell_type": "code",
      "metadata": {
        "id": "C2Lk113KSPUO",
        "colab": {
          "base_uri": "https://localhost:8080/"
        },
        "outputId": "294f85ce-ff08-4a3f-8152-8c1af71ba391"
      },
      "source": [
        "thistuple = (41, 27, 13, \"food\", \"numbers\", \"things\",\n",
        "            [\"apple\", \"banana\", \"cherry\"], [\"pasta\", \"pizza\", \"mozzarella\"],\n",
        "             {\"United States\": \"Washington D.C.\", \"Italy\": \"Rome\", \"England\": \"London\" },\n",
        "             {\"key1\": \"value1\", \"key2\": \"value2\", \"key3\": \"value3\"})\n",
        "print(type(thistuple))\n",
        "print(thistuple)"
      ],
      "execution_count": null,
      "outputs": [
        {
          "output_type": "stream",
          "name": "stdout",
          "text": [
            "<class 'tuple'>\n",
            "(41, 27, 13, 'food', 'numbers', 'things', ['apple', 'banana', 'cherry'], ['pasta', 'pizza', 'mozzarella'], {'United States': 'Washington D.C.', 'Italy': 'Rome', 'England': 'London'}, {'key1': 'value1', 'key2': 'value2', 'key3': 'value3'})\n"
          ]
        }
      ]
    },
    {
      "cell_type": "markdown",
      "metadata": {
        "id": "cPQRTT3q6GB1"
      },
      "source": [
        "Now, access the second-to-last item in the second list."
      ]
    },
    {
      "cell_type": "code",
      "metadata": {
        "id": "V9LKho6U6HM8",
        "colab": {
          "base_uri": "https://localhost:8080/",
          "height": 36
        },
        "outputId": "08d037df-7fd4-4c93-cf44-c6da9479836d"
      },
      "source": [
        "thistuple[7][1]"
      ],
      "execution_count": null,
      "outputs": [
        {
          "output_type": "execute_result",
          "data": {
            "text/plain": [
              "'pizza'"
            ],
            "application/vnd.google.colaboratory.intrinsic+json": {
              "type": "string"
            }
          },
          "metadata": {},
          "execution_count": 10
        }
      ]
    },
    {
      "cell_type": "markdown",
      "metadata": {
        "id": "HGoGFI9qxuzW"
      },
      "source": [
        "# Mission 2\n",
        "\n",
        "In the same tuple, access the last 4 elements using slicing."
      ]
    },
    {
      "cell_type": "code",
      "metadata": {
        "id": "qk097m4Zx4mR",
        "colab": {
          "base_uri": "https://localhost:8080/"
        },
        "outputId": "42089ad7-6fc5-429a-a007-3c50cb64f18b"
      },
      "source": [
        "thistuple[6:]"
      ],
      "execution_count": null,
      "outputs": [
        {
          "output_type": "execute_result",
          "data": {
            "text/plain": [
              "(['apple', 'banana', 'cherry'],\n",
              " ['pasta', 'pizza', 'mozzarella'],\n",
              " {'United States': 'Washington D.C.', 'Italy': 'Rome', 'England': 'London'},\n",
              " {'key1': 'value1', 'key2': 'value2', 'key3': 'value3'})"
            ]
          },
          "metadata": {},
          "execution_count": 16
        }
      ]
    },
    {
      "cell_type": "markdown",
      "metadata": {
        "id": "iVHJFx3Px8mY"
      },
      "source": [
        "# Mission 3\n",
        "\n",
        "Change the value of the 4th element (the first string) of your tuple (since tuples are immutable, this means recreating a tuple where this element is changed)."
      ]
    },
    {
      "cell_type": "code",
      "metadata": {
        "id": "op3qyirV7tGZ",
        "colab": {
          "base_uri": "https://localhost:8080/"
        },
        "outputId": "3029f0ba-4810-4d8c-9d4b-991ea8caedcd"
      },
      "source": [
        "list_1 = list(thistuple)\n",
        "list_1[3] = \"meat\"\n",
        "thistuple = tuple(list_1)\n",
        "\n",
        "print(thistuple)"
      ],
      "execution_count": null,
      "outputs": [
        {
          "output_type": "stream",
          "name": "stdout",
          "text": [
            "(41, 27, 13, 'meat', 'numbers', 'things', ['apple', 'banana', 'cherry'], ['pasta', 'pizza', 'mozzarella'], {'United States': 'Washington D.C.', 'Italy': 'Rome', 'England': 'London'}, {'key1': 'value1', 'key2': 'value2', 'key3': 'value3'})\n"
          ]
        }
      ]
    },
    {
      "cell_type": "markdown",
      "metadata": {
        "id": "Wp3_jhWS2Foi"
      },
      "source": [
        "# Mission 4\n",
        "\n",
        "Create 2 tuples of the same length that contain only integers.\n",
        "\n",
        "Then create a script that compares the sum of their elements and displays the tuple that has the highet total."
      ]
    },
    {
      "cell_type": "code",
      "source": [
        "tuple_1 = (5, 17, 35, 44)\n",
        "tuple_2 = (11, 3, 20, 39)\n",
        "\n",
        "test_1 = list(tuple_1)\n",
        "sum_1=sum(tuple_1)\n",
        "\n",
        "test_2 = list(tuple_2)\n",
        "sum_2=sum(tuple_2)\n",
        "\n",
        "if sum_2>sum_1:\n",
        "  print(\"The highet total is from tuple_2 : \",(sum_2))\n",
        "if sum_2<sum_1:\n",
        "  print(\"The highet total is from tuple_1 : \",(sum_1))\n",
        "if sum_2==sum_1:\n",
        "  print(\"It's a tie!!\")"
      ],
      "metadata": {
        "colab": {
          "base_uri": "https://localhost:8080/"
        },
        "id": "AkO77GkXWkDO",
        "outputId": "23d47d66-af4a-4edc-fc07-d4d87668ab3c"
      },
      "execution_count": null,
      "outputs": [
        {
          "output_type": "stream",
          "name": "stdout",
          "text": [
            "The highet total is from tuple_1 :  101\n"
          ]
        }
      ]
    },
    {
      "cell_type": "markdown",
      "metadata": {
        "id": "Zmk8uviVzPBZ"
      },
      "source": [
        "# Mission 5\n",
        "\n",
        "Here's a tuple:\n",
        "\n",
        "`my_tuple = (\"data analyst\", \"data scientist\", \"data engineer\", \"data architect\")`\n",
        "\n",
        "Ask the user for a string, then for an integer position. Create an altered copy of `my_tuple` where the element at the given position is now the given string."
      ]
    },
    {
      "cell_type": "code",
      "source": [
        "word = input(\"Choose a word : \")\n",
        "number= int(input(\"Choose a number : \"))\n",
        "\n",
        "my_tuple = (\"data analyst\", \"data scientist\", \"data engineer\", \"data architect\")\n",
        "\n",
        "my_tuple_1= list(my_tuple)\n",
        "if number <= len(my_tuple):\n",
        "  my_tuple_1[number] = word\n",
        "  print(my_tuple_1)\n",
        "if number > len(my_tuple):\n",
        "  print(\"Too much\")"
      ],
      "metadata": {
        "colab": {
          "base_uri": "https://localhost:8080/"
        },
        "id": "EzZTY0SljMPv",
        "outputId": "d13b99a6-c529-476f-ec8b-6c27bfd95b3d"
      },
      "execution_count": null,
      "outputs": [
        {
          "output_type": "stream",
          "name": "stdout",
          "text": [
            "Choose a word : hi\n",
            "Choose a number : 2\n",
            "['data analyst', 'data scientist', 'hi', 'data architect']\n"
          ]
        }
      ]
    }
  ]
}