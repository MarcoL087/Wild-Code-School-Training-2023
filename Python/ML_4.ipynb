{
  "nbformat": 4,
  "nbformat_minor": 0,
  "metadata": {
    "colab": {
      "provenance": []
    },
    "kernelspec": {
      "name": "python3",
      "display_name": "Python 3"
    },
    "language_info": {
      "name": "python"
    }
  },
  "cells": [
    {
      "cell_type": "code",
      "source": [
        "class DataAnalyst:\n",
        "    def __init__(self, nom, prenom, age, sexe, formation_precedente):\n",
        "        self.nom = nom\n",
        "        self.prenom = prenom\n",
        "        self.age = age\n",
        "        self.sexe = sexe\n",
        "        self.formation_precedente = formation_precedente\n",
        "        self.motivation = 100\n",
        "        self.progression = 0\n",
        "\n",
        "    def suivre_formation(self):\n",
        "        motivation_loss = random.randint(5, 25)\n",
        "        progression_gain = random.randint(20, 30)\n",
        "        self.motivation = self.motivation - motivation_loss\n",
        "        self.progression += progression_gain\n",
        "\n",
        "    def bosser_plus(self):\n",
        "        motivation_gain = random.randint(10, 30)\n",
        "        progression_gain = random.randint(10, 30)\n",
        "        self.motivation += motivation_gain\n",
        "        self.progression += progression_gain\n",
        "\n",
        "    def echouer(self):\n",
        "        motivation_loss = random.randint(20, 40)\n",
        "        progression_gain = random.randint(20, 40)\n",
        "        self.motivation = self.motivation - motivation_loss\n",
        "        self.progression += progression_gain\n",
        "\n",
        "    def reussir(self):\n",
        "        motivation_gain = random.randint(20, 40)\n",
        "        progression_gain = random.randint(10, 20)\n",
        "        self.motivation += motivation_gain\n",
        "        self.progression += progression_gain\n",
        "\n"
      ],
      "metadata": {
        "id": "JrULUGxfz1I7"
      },
      "execution_count": null,
      "outputs": []
    },
    {
      "cell_type": "code",
      "source": [
        "data_analyst = DataAnalyst(\"L\", \"Marco\", 36, \"Homme\", \"Chimie\")\n",
        "\n",
        "while 0 < data_analyst.motivation and data_analyst.progression < 100:\n",
        "\n",
        "    action = random.choice([data_analyst.suivre_formation, data_analyst.bosser_plus, data_analyst.echouer, data_analyst.reussir])\n",
        "\n",
        "    action()\n",
        "\n",
        "    print(f\"\\nLa méthode {action.__name__} a été utilisée.\")\n",
        "    print(f\"motivation vaut maintenant {data_analyst.motivation}\")\n",
        "    print(f\"progression vaut maintenant {data_analyst.progression}\")\n",
        "\n",
        "if data_analyst.motivation <= 0:\n",
        "    print(\"\\nBRAVO TU AS GAGNÉ !!!\")\n",
        "else:\n",
        "    print(\"\\nBRAVO TU AS APPRIS !!!\")\n",
        "\n",
        "\n"
      ],
      "metadata": {
        "colab": {
          "base_uri": "https://localhost:8080/"
        },
        "id": "RRgBcO6rBvb-",
        "outputId": "99cd61db-14a0-4883-a415-94448915e9ce"
      },
      "execution_count": null,
      "outputs": [
        {
          "output_type": "stream",
          "name": "stdout",
          "text": [
            "\n",
            "La méthode reussir a été utilisée.\n",
            "motivation vaut maintenant 130\n",
            "progression vaut maintenant 13\n",
            "\n",
            "La méthode suivre_formation a été utilisée.\n",
            "motivation vaut maintenant 110\n",
            "progression vaut maintenant 34\n",
            "\n",
            "La méthode suivre_formation a été utilisée.\n",
            "motivation vaut maintenant 97\n",
            "progression vaut maintenant 57\n",
            "\n",
            "La méthode echouer a été utilisée.\n",
            "motivation vaut maintenant 70\n",
            "progression vaut maintenant 89\n",
            "\n",
            "La méthode reussir a été utilisée.\n",
            "motivation vaut maintenant 95\n",
            "progression vaut maintenant 106\n",
            "\n",
            "BRAVO TU AS APPRIS !!!\n"
          ]
        }
      ]
    }
  ]
}