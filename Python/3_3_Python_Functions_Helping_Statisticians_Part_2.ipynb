{
  "nbformat": 4,
  "nbformat_minor": 0,
  "metadata": {
    "colab": {
      "provenance": []
    },
    "kernelspec": {
      "name": "python3",
      "display_name": "Python 3"
    }
  },
  "cells": [
    {
      "cell_type": "markdown",
      "metadata": {
        "id": "co2X9cGIieV0"
      },
      "source": [
        "# Help for statisticians!\n",
        "\n",
        "Your fellow statisticians need you. They want to learn how to program in Python and have tons of calculations to do.\n",
        "\n",
        "Very kindly, you agree to help them. Complete the missions below.\n",
        "\n"
      ]
    },
    {
      "cell_type": "markdown",
      "metadata": {
        "id": "CLFkEk_Fm9d4"
      },
      "source": [
        "### For all functions below, please add an extra cell where you actually call the function on at least two different inputs and displays the returned value (if the function doesn't already display stuff)."
      ]
    },
    {
      "cell_type": "code",
      "source": [
        "def next_day(day):\n",
        "    days_of_week = ['Monday', 'Tuesday', 'Wednesday', 'Thursday', 'Friday', 'Saturday', 'Sunday']\n",
        "\n",
        "    current_index = days_of_week.index(day.capitalize())\n",
        "\n",
        "    next_index = (current_index + 1) % 7\n",
        "\n",
        "    return days_of_week[next_index]\n",
        "\n",
        "input_day = input ('choose a day : ')\n",
        "result = next_day(input_day)\n",
        "print(f'The next day after {input_day} is {result}')"
      ],
      "metadata": {
        "colab": {
          "base_uri": "https://localhost:8080/"
        },
        "id": "3uPDuyGmRSMq",
        "outputId": "075f25f6-7fe1-412b-e28d-6f875ee2f63a"
      },
      "execution_count": null,
      "outputs": [
        {
          "output_type": "stream",
          "name": "stdout",
          "text": [
            "choose a day : monday\n",
            "The next day after monday is Tuesday\n"
          ]
        }
      ]
    },
    {
      "cell_type": "code",
      "metadata": {
        "id": "68rX-Y0AnGiR",
        "colab": {
          "base_uri": "https://localhost:8080/"
        },
        "outputId": "62b5a1c5-14b5-4bc3-d53f-b18dda4cd153"
      },
      "source": [
        "# Mission 10: Create a function that fills an empty list with values (words) from the following string :\n",
        "# \"After twelve soft showers are the arch-duchess' socks dry, arch-dry?\"\n",
        "\n",
        "def fill_list_from_string(input_string):\n",
        "    # Split the input string into words\n",
        "    words = input_string.split()\n",
        "\n",
        "    word_list = []\n",
        "\n",
        "    for word in words:\n",
        "        word = word.rstrip('.,?')\n",
        "        # Add the word to the list\n",
        "        word_list.append(word)\n",
        "\n",
        "    return word_list\n",
        "\n",
        "input_string = \"After twelve soft showers are the arch-duchess' socks dry, arch-dry?\"\n",
        "result_list = fill_list_from_string(input_string)\n",
        "print(result_list)"
      ],
      "execution_count": null,
      "outputs": [
        {
          "output_type": "stream",
          "name": "stdout",
          "text": [
            "['After', 'twelve', 'soft', 'showers', 'are', 'the', \"arch-duchess'\", 'socks', 'dry', 'arch-dry']\n"
          ]
        }
      ]
    },
    {
      "cell_type": "code",
      "metadata": {
        "id": "YGNoBYBEnLAx",
        "colab": {
          "base_uri": "https://localhost:8080/"
        },
        "outputId": "7c5a5bf5-29f0-4670-efb5-74cad3e7cf74"
      },
      "source": [
        "# Mission 11: Create a function that that takes a string as input, converts all characters to lowercase, and returns a new string where\n",
        "# every vowel at an even index is capitalized, keeping all other characters unchanged.\n",
        "# Example: antithetical -> AntithEtIcAl\n",
        "# Example: marvelously -> marvElOuslY\n",
        "\n",
        "def capitalize_vowels_at_even_indices(input_string):\n",
        "    lowercase_string = input_string.lower()\n",
        "\n",
        "    modified_chars = []\n",
        "\n",
        "    for i, char in enumerate(lowercase_string):\n",
        "        if char in 'aeiou' and i % 2 == 0:\n",
        "            modified_chars.append(char.upper())\n",
        "        else:\n",
        "            modified_chars.append(char)\n",
        "\n",
        "    result_string = ''.join(modified_chars)\n",
        "\n",
        "    return result_string\n",
        "\n",
        "# Example usage:\n",
        "input_string = input ('choose a sentence : ')\n",
        "result = capitalize_vowels_at_even_indices(input_string)\n",
        "print(result)\n"
      ],
      "execution_count": null,
      "outputs": [
        {
          "output_type": "stream",
          "name": "stdout",
          "text": [
            "choose a sentence : hi how are you doing?\n",
            "hi hOw are yOu dOing?\n"
          ]
        }
      ]
    },
    {
      "cell_type": "code",
      "metadata": {
        "id": "IJCr_jvwnOCh",
        "colab": {
          "base_uri": "https://localhost:8080/"
        },
        "outputId": "4e42e943-0600-4445-8969-b36836eb7ecb"
      },
      "source": [
        "# Mission 12: Create a function that takes a number n as parameter, and then returns a list containing n lists, each containing n empty lists.\n",
        "\n",
        "def create_empty_lists(n):\n",
        "    result_lists = [[] for _ in range(n)]\n",
        "\n",
        "    return result_lists\n",
        "\n",
        "n = int(input ('choose a number : '))\n",
        "result = create_empty_lists(n)\n",
        "print(result)"
      ],
      "execution_count": null,
      "outputs": [
        {
          "output_type": "stream",
          "name": "stdout",
          "text": [
            "choose a number : 7\n",
            "[[], [], [], [], [], [], []]\n"
          ]
        }
      ]
    },
    {
      "cell_type": "code",
      "metadata": {
        "id": "xjYGsODEnSb2",
        "colab": {
          "base_uri": "https://localhost:8080/"
        },
        "outputId": "9f7331b3-bc9a-46b1-9cd2-7903102d5106"
      },
      "source": [
        "# Mission 13: Create a function that takes two inputs, their year of birth and first name.\n",
        "# Convert the year of birth into an int and subtract it from the current year (you can do it using a certain module :-P).\n",
        "# Then display the message: Hello [first name], today you are (or you will be this year) [age] years old.\n",
        "# When testing the function, ask the user for the parameters!\n",
        "\n",
        "def calculate_age_and_greet(year_of_birth, first_name):\n",
        "    current_year = datetime.now().year\n",
        "\n",
        "    year_of_birth = int(year_of_birth)\n",
        "    age = current_year - year_of_birth\n",
        "\n",
        "    print(f\"Hello {first_name}, today you are (or you will be this year) {age} years old.\")\n",
        "\n",
        "user_first_name = input(\"Enter your first name: \")\n",
        "user_year_of_birth = input(\"Enter your year of birth: \")\n",
        "\n",
        "calculate_age_and_greet(user_year_of_birth, user_first_name)\n"
      ],
      "execution_count": null,
      "outputs": [
        {
          "output_type": "stream",
          "name": "stdout",
          "text": [
            "Enter your first name: marco\n",
            "Enter your year of birth: 1987\n",
            "Hello marco, today you are (or you will be this year) 36 years old.\n"
          ]
        }
      ]
    }
  ]
}