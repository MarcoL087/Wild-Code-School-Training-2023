{
  "nbformat": 4,
  "nbformat_minor": 0,
  "metadata": {
    "colab": {
      "provenance": []
    },
    "kernelspec": {
      "name": "python3",
      "display_name": "Python 3"
    },
    "language_info": {
      "name": "python"
    }
  },
  "cells": [
    {
      "cell_type": "markdown",
      "source": [
        "# Type"
      ],
      "metadata": {
        "id": "p0IY6ccQKu9_"
      }
    },
    {
      "cell_type": "markdown",
      "source": [
        "1. Dans la cellule de code ci-dessous, quel est, pour chaque cellule, le type de l'objet x ?  \n",
        "`indice`: vous pouvez utiliser `type(x)` pour le révéler."
      ],
      "metadata": {
        "id": "chbM0tgeZpEf"
      }
    },
    {
      "cell_type": "markdown",
      "source": [
        "1.1"
      ],
      "metadata": {
        "id": "gw9bORxUJxGm"
      }
    },
    {
      "cell_type": "code",
      "execution_count": null,
      "metadata": {
        "id": "WjJmN0AxZBLw"
      },
      "outputs": [],
      "source": [
        "x = 5"
      ]
    },
    {
      "cell_type": "code",
      "source": [
        "type(x)"
      ],
      "metadata": {
        "id": "8KUxbFshykXW",
        "outputId": "31459b55-9bea-4023-9dee-ac5bcf721926",
        "colab": {
          "base_uri": "https://localhost:8080/"
        }
      },
      "execution_count": null,
      "outputs": [
        {
          "output_type": "execute_result",
          "data": {
            "text/plain": [
              "str"
            ]
          },
          "metadata": {},
          "execution_count": 15
        }
      ]
    },
    {
      "cell_type": "markdown",
      "source": [
        "1.2"
      ],
      "metadata": {
        "id": "3IfX8iZxJyQ2"
      }
    },
    {
      "cell_type": "code",
      "source": [
        "x = \"Hello World\""
      ],
      "metadata": {
        "id": "latNGJ8caLkY"
      },
      "execution_count": null,
      "outputs": []
    },
    {
      "cell_type": "code",
      "source": [
        "type(x)"
      ],
      "metadata": {
        "id": "Aq_WXYCYym1u",
        "outputId": "0943641a-94c0-49f1-c817-3bc0d1ade6fa",
        "colab": {
          "base_uri": "https://localhost:8080/"
        }
      },
      "execution_count": null,
      "outputs": [
        {
          "output_type": "execute_result",
          "data": {
            "text/plain": [
              "str"
            ]
          },
          "metadata": {},
          "execution_count": 16
        }
      ]
    },
    {
      "cell_type": "markdown",
      "source": [
        "1.3"
      ],
      "metadata": {
        "id": "-Elw3kFRJzKd"
      }
    },
    {
      "cell_type": "code",
      "source": [
        "x = 2.5"
      ],
      "metadata": {
        "id": "tf7IgsXZa15e"
      },
      "execution_count": null,
      "outputs": []
    },
    {
      "cell_type": "code",
      "source": [
        "type(x)"
      ],
      "metadata": {
        "id": "6I-_Cqb6yq0P",
        "outputId": "d8bfbddf-dd9f-41a1-a7cb-6595e9ddcd1b",
        "colab": {
          "base_uri": "https://localhost:8080/"
        }
      },
      "execution_count": null,
      "outputs": [
        {
          "output_type": "execute_result",
          "data": {
            "text/plain": [
              "str"
            ]
          },
          "metadata": {},
          "execution_count": 17
        }
      ]
    },
    {
      "cell_type": "markdown",
      "source": [
        "1.4"
      ],
      "metadata": {
        "id": "5CJ3Q9qfJ0xJ"
      }
    },
    {
      "cell_type": "code",
      "source": [
        "x = [\"mintcream\", \"burlywood\", \"salmon\"]"
      ],
      "metadata": {
        "id": "6YNM6DLHa50P"
      },
      "execution_count": null,
      "outputs": []
    },
    {
      "cell_type": "code",
      "source": [
        "type(x)"
      ],
      "metadata": {
        "id": "-Wu0GDCYytq2",
        "outputId": "17c8706c-a4ec-4828-dab0-e03b3219dd10",
        "colab": {
          "base_uri": "https://localhost:8080/"
        }
      },
      "execution_count": null,
      "outputs": [
        {
          "output_type": "execute_result",
          "data": {
            "text/plain": [
              "str"
            ]
          },
          "metadata": {},
          "execution_count": 18
        }
      ]
    },
    {
      "cell_type": "markdown",
      "source": [
        "1.5"
      ],
      "metadata": {
        "id": "E3ro5cT-J1sV"
      }
    },
    {
      "cell_type": "code",
      "source": [
        "x = (\"mintcream\", \"burlywood\", \"salmon\")"
      ],
      "metadata": {
        "id": "wCaEFel6a-Fd"
      },
      "execution_count": null,
      "outputs": []
    },
    {
      "cell_type": "code",
      "source": [
        "type(x)"
      ],
      "metadata": {
        "id": "PRL2ivcCyxhG",
        "outputId": "5e0706a2-214b-4fcd-ba90-a12ea64e6a9c",
        "colab": {
          "base_uri": "https://localhost:8080/"
        }
      },
      "execution_count": null,
      "outputs": [
        {
          "output_type": "execute_result",
          "data": {
            "text/plain": [
              "str"
            ]
          },
          "metadata": {},
          "execution_count": 19
        }
      ]
    },
    {
      "cell_type": "markdown",
      "source": [
        "1.6"
      ],
      "metadata": {
        "id": "eGBMyBrjJ2xe"
      }
    },
    {
      "cell_type": "code",
      "source": [
        "x = {\"name\": \"Jules César\", \"Job\": \"Musician\", \"age\": 55}"
      ],
      "metadata": {
        "id": "gO0rMS0ubLkg"
      },
      "execution_count": null,
      "outputs": []
    },
    {
      "cell_type": "code",
      "source": [
        "type(x)"
      ],
      "metadata": {
        "id": "2ZwCBjvay0ZW",
        "outputId": "265170da-2b6e-49dd-96f4-302274cae3d5",
        "colab": {
          "base_uri": "https://localhost:8080/"
        }
      },
      "execution_count": null,
      "outputs": [
        {
          "output_type": "execute_result",
          "data": {
            "text/plain": [
              "str"
            ]
          },
          "metadata": {},
          "execution_count": 20
        }
      ]
    },
    {
      "cell_type": "markdown",
      "source": [
        "1.7"
      ],
      "metadata": {
        "id": "n2IIfrgNJ4Ln"
      }
    },
    {
      "cell_type": "code",
      "source": [
        "x = True"
      ],
      "metadata": {
        "id": "lpPCkWfWbY3N"
      },
      "execution_count": null,
      "outputs": []
    },
    {
      "cell_type": "markdown",
      "source": [
        "2. Maintenant, vous allez devoir convertir des objets d'un certain type, en un autre type d'objet.  \n",
        "C'est parti !"
      ],
      "metadata": {
        "id": "J-YXtU1Yb2pi"
      }
    },
    {
      "cell_type": "markdown",
      "source": [
        "2.1 Convertissez x en float."
      ],
      "metadata": {
        "id": "yerUe3q7cMmR"
      }
    },
    {
      "cell_type": "code",
      "source": [
        "x = 5\n"
      ],
      "metadata": {
        "id": "yVs2Ry3NbpEW"
      },
      "execution_count": null,
      "outputs": []
    },
    {
      "cell_type": "code",
      "source": [
        "float(x)"
      ],
      "metadata": {
        "id": "wZ99p14evTLm",
        "outputId": "df037332-80a2-4158-f792-41c284715bc7",
        "colab": {
          "base_uri": "https://localhost:8080/"
        }
      },
      "execution_count": null,
      "outputs": [
        {
          "output_type": "execute_result",
          "data": {
            "text/plain": [
              "5.4"
            ]
          },
          "metadata": {},
          "execution_count": 5
        }
      ]
    },
    {
      "cell_type": "markdown",
      "source": [
        "2.2 Convertissez x en int"
      ],
      "metadata": {
        "id": "q0LodnjUcPyl"
      }
    },
    {
      "cell_type": "code",
      "source": [
        "x = 5.4"
      ],
      "metadata": {
        "id": "0Ffo568UcJBg"
      },
      "execution_count": null,
      "outputs": []
    },
    {
      "cell_type": "code",
      "source": [
        "int(5.4)"
      ],
      "metadata": {
        "id": "-rgTdHhLuN5d",
        "outputId": "452c317a-9982-4c88-ffaf-01d6e8dc1264",
        "colab": {
          "base_uri": "https://localhost:8080/"
        }
      },
      "execution_count": null,
      "outputs": [
        {
          "output_type": "execute_result",
          "data": {
            "text/plain": [
              "5"
            ]
          },
          "metadata": {},
          "execution_count": 11
        }
      ]
    },
    {
      "cell_type": "markdown",
      "source": [
        "2.3 Convertissez x en int"
      ],
      "metadata": {
        "id": "--gnDHGLcYin"
      }
    },
    {
      "cell_type": "code",
      "source": [
        "x = 5.6\n"
      ],
      "metadata": {
        "id": "oi21CeBVcTLH"
      },
      "execution_count": null,
      "outputs": []
    },
    {
      "cell_type": "code",
      "source": [
        "int(5.6)"
      ],
      "metadata": {
        "id": "tAI6oy58uX1X",
        "outputId": "580dba0e-312e-4ff0-c66f-34755e81995f",
        "colab": {
          "base_uri": "https://localhost:8080/"
        }
      },
      "execution_count": null,
      "outputs": [
        {
          "output_type": "execute_result",
          "data": {
            "text/plain": [
              "5"
            ]
          },
          "metadata": {},
          "execution_count": 10
        }
      ]
    },
    {
      "cell_type": "markdown",
      "source": [
        "2.4 Que pouvez-vous remarquer ?"
      ],
      "metadata": {
        "id": "ZYsPxH7vcho9"
      }
    },
    {
      "cell_type": "markdown",
      "source": [
        "Réponse: int arrondi au chiffre inférieur"
      ],
      "metadata": {
        "id": "Le9gddo6ckPP"
      }
    },
    {
      "cell_type": "markdown",
      "source": [
        "2.5 Trouvez le moyen d'arrondir x."
      ],
      "metadata": {
        "id": "YmPGqs_FcmZh"
      }
    },
    {
      "cell_type": "code",
      "source": [
        "x = 5.6\n"
      ],
      "metadata": {
        "id": "UUInqFe9cbMJ"
      },
      "execution_count": null,
      "outputs": []
    },
    {
      "cell_type": "code",
      "source": [
        ">>> round(5.6)"
      ],
      "metadata": {
        "id": "lyYURPOEupgm",
        "outputId": "125fe47f-222c-4d9c-eb04-22fc68be079a",
        "colab": {
          "base_uri": "https://localhost:8080/"
        }
      },
      "execution_count": null,
      "outputs": [
        {
          "output_type": "execute_result",
          "data": {
            "text/plain": [
              "6"
            ]
          },
          "metadata": {},
          "execution_count": 3
        }
      ]
    },
    {
      "cell_type": "markdown",
      "source": [
        "2.6 Après avoir arrondi x, est-ce que x est toujours un `float` ?  \n",
        "Réponse: nope"
      ],
      "metadata": {
        "id": "OGJ4a9Abc7Jj"
      }
    },
    {
      "cell_type": "markdown",
      "source": [
        "2.7 Ci-dessous, est-ce que x est un `int` ?"
      ],
      "metadata": {
        "id": "deL_WAeRdN8Y"
      }
    },
    {
      "cell_type": "code",
      "source": [
        "x = 6.0\n"
      ],
      "metadata": {
        "id": "BZqcem6pcvWh"
      },
      "execution_count": null,
      "outputs": []
    },
    {
      "cell_type": "code",
      "source": [
        "int(6.0)"
      ],
      "metadata": {
        "id": "QvrTs83axY6F",
        "outputId": "89521d7e-ea97-4745-871b-731444e5ac98",
        "colab": {
          "base_uri": "https://localhost:8080/"
        }
      },
      "execution_count": null,
      "outputs": [
        {
          "output_type": "execute_result",
          "data": {
            "text/plain": [
              "6"
            ]
          },
          "metadata": {},
          "execution_count": 12
        }
      ]
    },
    {
      "cell_type": "markdown",
      "source": [
        "integer but used floating value"
      ],
      "metadata": {
        "id": "DZN2v8q8xSwO"
      }
    },
    {
      "cell_type": "markdown",
      "source": [
        "2.8 Arrondissez x avec 3 valeurs décimales.\n"
      ],
      "metadata": {
        "id": "AtfSIpVoda02"
      }
    },
    {
      "cell_type": "code",
      "source": [
        "x = 3.14159265359\n",
        "round(x,3)"
      ],
      "metadata": {
        "id": "rqf7z-e6dUYW",
        "outputId": "70192399-0b0e-4edb-88d0-335b5b71c49d",
        "colab": {
          "base_uri": "https://localhost:8080/"
        }
      },
      "execution_count": null,
      "outputs": [
        {
          "output_type": "execute_result",
          "data": {
            "text/plain": [
              "3.142"
            ]
          },
          "metadata": {},
          "execution_count": 21
        }
      ]
    },
    {
      "cell_type": "markdown",
      "source": [
        "# Built-in Function"
      ],
      "metadata": {
        "id": "JErtlPWEK1Tj"
      }
    },
    {
      "cell_type": "markdown",
      "source": [
        "3.1 Utilisez une [built-in function](https://docs.python.org/3/library/functions.html) pour compter le nombre de lettres dans l'objet de type `string` suivant:"
      ],
      "metadata": {
        "id": "omp-PFHNd9pe"
      }
    },
    {
      "cell_type": "code",
      "source": [
        "x = \"Hello World\"\n",
        "len(x)"
      ],
      "metadata": {
        "id": "nZbmZIzOdpGy",
        "outputId": "c2193add-af0e-450f-f44b-28883b7cf37f",
        "colab": {
          "base_uri": "https://localhost:8080/"
        }
      },
      "execution_count": null,
      "outputs": [
        {
          "output_type": "execute_result",
          "data": {
            "text/plain": [
              "11"
            ]
          },
          "metadata": {},
          "execution_count": 22
        }
      ]
    },
    {
      "cell_type": "markdown",
      "source": [
        "3.2 Utilisez une built-in function pour compter le nombre d'éléments dans l'objet de type `list` suivant:"
      ],
      "metadata": {
        "id": "oQvcgJFsegje"
      }
    },
    {
      "cell_type": "code",
      "source": [
        "x = [\"non\", \"pas\", 1, \"ni\", 2, \"ni\", 3, \"mais\", 7.2132]\n",
        "\n",
        "len(x)"
      ],
      "metadata": {
        "id": "Xlu7vug7eT19",
        "outputId": "7a2eb63a-a56a-419d-e27c-da6b496da029",
        "colab": {
          "base_uri": "https://localhost:8080/"
        }
      },
      "execution_count": null,
      "outputs": [
        {
          "output_type": "execute_result",
          "data": {
            "text/plain": [
              "9"
            ]
          },
          "metadata": {},
          "execution_count": 24
        }
      ]
    },
    {
      "cell_type": "markdown",
      "source": [
        "3.3 Utilisez une built-in function sur une des deux variables pour que `resultat`  contienne une valeur positive."
      ],
      "metadata": {
        "id": "e_y4P_HfO6Sa"
      }
    },
    {
      "cell_type": "code",
      "source": [
        "var_1 = 4\n",
        "var_2 = -5\n",
        "\n",
        "resultat = var_1 + abs(var_2)\n",
        "print(resultat)"
      ],
      "metadata": {
        "id": "EAiCfX-pO8ag",
        "outputId": "45771f1e-6e79-4edc-9dce-8fa4243d4d50",
        "colab": {
          "base_uri": "https://localhost:8080/"
        }
      },
      "execution_count": null,
      "outputs": [
        {
          "output_type": "stream",
          "name": "stdout",
          "text": [
            "9\n"
          ]
        }
      ]
    },
    {
      "cell_type": "markdown",
      "source": [
        "3.4 Utilisez une built-in function pour renvoyer la valeur minimum de la `list` suivante:"
      ],
      "metadata": {
        "id": "tpdiCu2TPvVP"
      }
    },
    {
      "cell_type": "code",
      "source": [
        "a_list = [3.2, 41, 2, 23, 7]\n",
        "min(a_list)"
      ],
      "metadata": {
        "id": "AipGfEYUP4CQ",
        "outputId": "7cc4fce6-1a13-482d-d028-c15b6f3ae4e7",
        "colab": {
          "base_uri": "https://localhost:8080/"
        }
      },
      "execution_count": null,
      "outputs": [
        {
          "output_type": "execute_result",
          "data": {
            "text/plain": [
              "2"
            ]
          },
          "metadata": {},
          "execution_count": 28
        }
      ]
    },
    {
      "cell_type": "markdown",
      "source": [
        "3.5 Utilisez une built-in function pour renvoyer la somme des valeurs de la `list` suivante:"
      ],
      "metadata": {
        "id": "T1wT0YOhQKhL"
      }
    },
    {
      "cell_type": "code",
      "source": [
        "a_list = [3.2, 41, 2, 23, 7]\n",
        "sum(a_list)"
      ],
      "metadata": {
        "id": "5uBfLsKyQjgz",
        "outputId": "e3793b5e-bf02-429d-f3cd-0948cf6abe36",
        "colab": {
          "base_uri": "https://localhost:8080/"
        }
      },
      "execution_count": null,
      "outputs": [
        {
          "output_type": "execute_result",
          "data": {
            "text/plain": [
              "76.2"
            ]
          },
          "metadata": {},
          "execution_count": 29
        }
      ]
    }
  ]
}
