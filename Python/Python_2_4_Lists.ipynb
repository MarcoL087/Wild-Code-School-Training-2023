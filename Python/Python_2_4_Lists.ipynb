{
  "nbformat": 4,
  "nbformat_minor": 0,
  "metadata": {
    "colab": {
      "provenance": []
    },
    "kernelspec": {
      "name": "python3",
      "display_name": "Python 3"
    }
  },
  "cells": [
    {
      "cell_type": "markdown",
      "source": [
        "**Preliminary note:** sometimes, the challenge tells you to do something that is incompatible with some input (for instance, you ask for a position but the user enters some text, or an invalid number).\n",
        "\n",
        "Here you can assume that all user input goes according to plan (the \"happy path\"). If you want an extra **optional** challenge, feel free to manage possible error cases!"
      ],
      "metadata": {
        "id": "1LeJKHt8Hd9O"
      }
    },
    {
      "cell_type": "markdown",
      "metadata": {
        "id": "LoJw-LlCTnWF"
      },
      "source": [
        "# Mission 1\n",
        "\n",
        "Define a list, then display only the elements (and their position) that have even positions (0, 2, 4, 6...).\n",
        "\n",
        "With `test_list = [\"a\", \"b\", \"c\", \"d\", \"e\"]`, the script should display:\n",
        "```\n",
        "a at position 0\n",
        "c at position 2\n",
        "e at position 4\n",
        "```"
      ]
    },
    {
      "cell_type": "code",
      "source": [
        "test_list = [\"a\", \"b\", \"c\", \"d\", \"e\"]\n",
        "print((test_list[0]), \"at position\",(test_list.index('a')))\n",
        "print((test_list[2]), \"at position\",(test_list.index('c')))\n",
        "print((test_list[4]), \"at position\",(test_list.index('e')))"
      ],
      "metadata": {
        "colab": {
          "base_uri": "https://localhost:8080/"
        },
        "id": "3HLIM99c5fec",
        "outputId": "4cdee3d8-b42d-4edb-e958-b2eca2d3ce34"
      },
      "execution_count": null,
      "outputs": [
        {
          "output_type": "stream",
          "name": "stdout",
          "text": [
            "a at position 0\n",
            "c at position 2\n",
            "e at position 4\n"
          ]
        }
      ]
    },
    {
      "cell_type": "markdown",
      "metadata": {
        "id": "J3bsGIvAT049"
      },
      "source": [
        "# Mission 2\n",
        "\n",
        "Define a list, then **ask** for a position, then for a string. Then replace the list element at that position by the given string, and display the resulting list.\n",
        "\n",
        "For example, with the list `test_list2 = ['hello', 'good morning', 'bye bye', 'have a good day']`, the position `2` and the string `yeah`, you should display:\n",
        "```\n",
        "['hello', 'good morning', 'yeah', 'have a good day']\n",
        "```"
      ]
    },
    {
      "cell_type": "code",
      "source": [
        "test_list2 = ['hello', 'good morning', 'bye bye', 'have a good day']\n",
        "\n",
        "position = int(input('position ? : '))\n",
        "test_list= test_list2[:]\n",
        "test_list[position] = 'yeah'\n",
        "\n",
        "print(test_list)"
      ],
      "metadata": {
        "colab": {
          "base_uri": "https://localhost:8080/"
        },
        "id": "EH485UTJE03j",
        "outputId": "08bfc786-dfd9-4eae-bd70-c5c7ffc25c42"
      },
      "execution_count": null,
      "outputs": [
        {
          "output_type": "stream",
          "name": "stdout",
          "text": [
            "position ? : 2\n",
            "['hello', 'good morning', 'yeah', 'have a good day']\n"
          ]
        }
      ]
    },
    {
      "cell_type": "markdown",
      "metadata": {
        "id": "dVl36lvlWLdV"
      },
      "source": [
        "# Mission 3\n",
        "\n",
        "Define a list with five numbers, then ask the user for a number. Put the number at the end of the list, remove the first element from the list, and finally display the list.\n",
        "\n",
        "For example, with the list `test_list3 = [1, 9, 6, 15, 4]` and the input `7`, you should display:\n",
        "```\n",
        "[9, 6, 15, 4, 7]\n",
        "```\n"
      ]
    },
    {
      "cell_type": "code",
      "source": [
        "test_list3 = [1, 9, 6, 15, 4]\n",
        "num = int(input('Choose a number :'))\n",
        "\n",
        "test_list3.pop(0)\n",
        "test_list3.append(num)\n",
        "\n",
        "print(test_list3)"
      ],
      "metadata": {
        "colab": {
          "base_uri": "https://localhost:8080/"
        },
        "id": "XokwmkSGIGel",
        "outputId": "6e09f913-de20-4df4-a69c-d76f20aee296"
      },
      "execution_count": null,
      "outputs": [
        {
          "output_type": "stream",
          "name": "stdout",
          "text": [
            "Choose a number :14\n",
            "[9, 6, 15, 4, 14]\n"
          ]
        }
      ]
    },
    {
      "cell_type": "markdown",
      "metadata": {
        "id": "GCvpkWzXXPTf"
      },
      "source": [
        "# Mission 4\n",
        "\n",
        "Define a list, then ask the user for a string. Then, insert the string in the list at a random position, and display the resulting list.\n",
        "\n",
        "For example, with the list `test_list4 = [\"p\", \"y\", \"t\", \"h\", \"o\"]` and the input `n`, you *might* get:\n",
        "```\n",
        "[\"p\", \"n\", \"y\", \"t\", \"h\", \"o\"]\n",
        "```\n",
        "... but you might also get:\n",
        "```\n",
        "[\"p\", \"y\", \"t\", \"n\", \"h\", \"o\"]\n",
        "```\n"
      ]
    },
    {
      "cell_type": "code",
      "source": [
        "import random\n",
        "list_1 = [\"p\", \"y\", \"t\", \"h\", \"o\"]\n",
        "x=input()\n",
        "rand_index=random.randint(0,len(list_1)-1)\n",
        "list_1.insert(rand_index,x)\n",
        "print(list_1)"
      ],
      "metadata": {
        "colab": {
          "base_uri": "https://localhost:8080/"
        },
        "id": "ezd9S6GFboHg",
        "outputId": "fdf2ab34-0680-4e22-ed9f-c5bb1353036e"
      },
      "execution_count": null,
      "outputs": [
        {
          "output_type": "stream",
          "name": "stdout",
          "text": [
            "x\n",
            "['x', 'p', 'y', 't', 'h', 'o']\n"
          ]
        }
      ]
    },
    {
      "cell_type": "markdown",
      "metadata": {
        "id": "Ygonr8C4pEgg"
      },
      "source": [
        "9# Mission 5\n",
        "\n",
        "Create a list of integers. Then, display a list with the elements ordered from smallest to largest, using the right built-in function.\n",
        "\n",
        "With the list `test_list5 = [3, 4, 0, -1, 35, 7]`, this will display:\n",
        "```\n",
        "[-1, 0, 3, 4, 7, 35]\n",
        "```"
      ]
    },
    {
      "cell_type": "code",
      "source": [
        "test_list5 = [3, 4, 0, -1, 35, 7]\n",
        "\n",
        "test_list5.sort()\n",
        "print(test_list5)"
      ],
      "metadata": {
        "id": "KYW-riV7K3DA",
        "colab": {
          "base_uri": "https://localhost:8080/"
        },
        "outputId": "34865e42-40ec-420d-b31b-d5a4be9ba1f3"
      },
      "execution_count": null,
      "outputs": [
        {
          "output_type": "stream",
          "name": "stdout",
          "text": [
            "[-1, 0, 3, 4, 7, 35]\n"
          ]
        }
      ]
    },
    {
      "cell_type": "markdown",
      "metadata": {
        "id": "V8ZS3aECXvuZ"
      },
      "source": [
        "# Mission 6\n",
        "\n",
        "Ask the user for a string, convert it to a list of characters with the `list` function, then ask for a single character.\n",
        "\n",
        "Remove the first occurrence of the character from the list, then display how many occurrences of the character remain in the list.\n",
        "\n",
        "For instance if you enter `\"Excellent work\"` then the letter `\"e\"`, it will display:\n",
        "```\n",
        "There are still 2 copies of e in the list\n",
        "```"
      ]
    },
    {
      "cell_type": "code",
      "metadata": {
        "id": "dlRdqxco5r8U",
        "colab": {
          "base_uri": "https://localhost:8080/"
        },
        "outputId": "d24f32b7-86ff-4625-feb9-35f99156bbc5"
      },
      "source": [
        "sent = input('Choose a sentence : ')\n",
        "words =sent.split(\" \")[0]\n",
        "words= words.lower()\n",
        "first_characters = words[0]\n",
        "print(\"Choosen letter : \", first_characters)\n",
        "print(\"There are still\", (words.count(first_characters)-1), \"copies of\", first_characters, \"in the list\")\n"
      ],
      "execution_count": null,
      "outputs": [
        {
          "output_type": "stream",
          "name": "stdout",
          "text": [
            "Choose a sentence : AnacondA is a SnAke\n",
            "Choosen letter :  a\n",
            "There are still 2 copies of a in the list\n"
          ]
        }
      ]
    },
    {
      "cell_type": "markdown",
      "metadata": {
        "id": "geMLdrvAYHKx"
      },
      "source": [
        "# Mission 7\n",
        "\n",
        "Define three lists containing no duplicates. Then, indicate (however you like) the two that have the most elements in common (or all three if there's a tie).\n",
        "\n",
        "For instance, with:\n",
        "```\n",
        "list_a = [1, 2, 4, 8, 16, 32]\n",
        "list_b = [1, 2, 3, 5, 8, 13]\n",
        "list_c = [2, 3, 5, 7, 11, 13]\n",
        "```\n",
        "It may display:\n",
        "```\n",
        "Lists B and C have the most common elements!\n",
        "```"
      ]
    },
    {
      "cell_type": "code",
      "metadata": {
        "id": "1-cenx3RSPpq",
        "colab": {
          "base_uri": "https://localhost:8080/"
        },
        "outputId": "42f0c36d-19de-4f6b-a082-d363fff55cfd"
      },
      "source": [
        "list1 = [1, 2, 4, 8, 16, 32]\n",
        "list2 = [1, 2, 3, 5, 8, 13]\n",
        "list3 = [2, 3, 5, 7, 11, 13]\n",
        "\n",
        "common_elements = (set(list1).intersection(list2))\n",
        "common_elements2 = (set(list2).intersection(list3))\n",
        "common_elements3 = (set(list3).intersection(list1))\n",
        "\n",
        "if common_elements > common_elements2:\n",
        "  print(\"list1 and list2, have the most common elements : \", common_elements)\n",
        "elif common_elements2 > common_elements3:\n",
        "  print(\"list2 and list3, have the most common elements : \", common_elements2)\n",
        "elif common_elements3 > common_elements:\n",
        "  print(\"list3 and  list1 have the most common elements : \", common_elements3)\n"
      ],
      "execution_count": null,
      "outputs": [
        {
          "output_type": "stream",
          "name": "stdout",
          "text": [
            "list2 and list3, have the most common elements :  {13, 2, 3, 5}\n"
          ]
        }
      ]
    }
  ]
}