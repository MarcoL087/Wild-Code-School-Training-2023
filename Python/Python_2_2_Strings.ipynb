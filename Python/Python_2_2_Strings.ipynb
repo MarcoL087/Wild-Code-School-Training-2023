{
  "nbformat": 4,
  "nbformat_minor": 0,
  "metadata": {
    "colab": {
      "provenance": []
    },
    "kernelspec": {
      "name": "python3",
      "display_name": "Python 3"
    }
  },
  "cells": [
    {
      "cell_type": "markdown",
      "source": [
        "# Mission 1"
      ],
      "metadata": {
        "id": "Y-fEMIDQ3Vwg"
      }
    },
    {
      "cell_type": "markdown",
      "metadata": {
        "id": "wruMhTKTx-_T"
      },
      "source": [
        "What's the lenght of the following string ?"
      ]
    },
    {
      "cell_type": "code",
      "metadata": {
        "id": "oweHYwlm1EVo",
        "colab": {
          "base_uri": "https://localhost:8080/"
        },
        "outputId": "23c948d5-2538-4ddc-f31a-606dd7016091"
      },
      "source": [
        "s = \"Taumata whakatangihanga koauau o tamatea turi pukaka piki maungah oronuku pokai whenuaki tanatahu \"\n",
        "long = len(s)\n",
        "print (long)\n"
      ],
      "execution_count": null,
      "outputs": [
        {
          "output_type": "stream",
          "name": "stdout",
          "text": [
            "98\n"
          ]
        }
      ]
    },
    {
      "cell_type": "markdown",
      "source": [
        "Now, count only non-space characters and display how many there is.\n",
        "Remember, using a for loop on a string will browse all the individual characters of it!"
      ],
      "metadata": {
        "id": "5dmVxxN_j4Dh"
      }
    },
    {
      "cell_type": "code",
      "metadata": {
        "id": "ze_3CDrJx9re",
        "colab": {
          "base_uri": "https://localhost:8080/"
        },
        "outputId": "14b8a1c1-5913-421b-f328-3002f5e1a0c6"
      },
      "source": [
        "s = \"Taumata whakatangihanga koauau o tamatea turi pukaka piki maungah oronuku pokai whenuaki tanatahu \"\n",
        "\n",
        "s.count(\" \")"
      ],
      "execution_count": null,
      "outputs": [
        {
          "output_type": "execute_result",
          "data": {
            "text/plain": [
              "13"
            ]
          },
          "metadata": {},
          "execution_count": 12
        }
      ]
    },
    {
      "cell_type": "markdown",
      "metadata": {
        "id": "2BSzzT3_DDOK"
      },
      "source": [
        "# Mission 2\n",
        "\n",
        "Ask the user for a string, then for a character (we assume user input follows the rules). Then, display the positions, **starting with 1**, of all occurrences of the character within the string.\n",
        "\n",
        "For example, for the word \"welcome\" and for the character \"e\", the script will display:\n",
        "```\n",
        "position: 2\n",
        "position: 7\n",
        "```"
      ]
    },
    {
      "cell_type": "code",
      "source": [
        "phrase = input( \"Choose a world : \")\n",
        "character = input( \"Choose a character : \")\n",
        "long= len(phrase)\n",
        "\n",
        "ind = []\n",
        "for i in range(long):\n",
        "  if phrase[i] == character:\n",
        "    ind.append(i + 1)\n",
        "if ind:\n",
        "  print(\"position :\", ind)\n"
      ],
      "metadata": {
        "id": "weGO_rxR4J0Y",
        "colab": {
          "base_uri": "https://localhost:8080/"
        },
        "outputId": "6056de13-81ed-48ac-e82c-13bfa44b3a31"
      },
      "execution_count": null,
      "outputs": [
        {
          "output_type": "stream",
          "name": "stdout",
          "text": [
            "Choose a world : letter\n",
            "Choose a character : e\n",
            "position : [2, 5]\n"
          ]
        }
      ]
    },
    {
      "cell_type": "markdown",
      "metadata": {
        "id": "pLZi_mgzFvMP"
      },
      "source": [
        "# Mission 3\n",
        "\n",
        "Ask the user for a string, then for an integer. Then, display the string repeated as many times as the given integer.\n",
        "\n",
        "For example, `badger` and `4` will display `badgerbadgerbadgerbadger`"
      ]
    },
    {
      "cell_type": "code",
      "source": [
        "phrase = input( \"Choose a world : \")\n",
        "num = int(input(\"choose a number: \"))\n",
        "\n",
        "phrase*num"
      ],
      "metadata": {
        "colab": {
          "base_uri": "https://localhost:8080/",
          "height": 70
        },
        "id": "85ka6lH8NJGW",
        "outputId": "01816ff9-d221-44e1-a05b-d07d04bad883"
      },
      "execution_count": null,
      "outputs": [
        {
          "name": "stdout",
          "output_type": "stream",
          "text": [
            "Choose a world : badger\n",
            "choose a number: 5\n"
          ]
        },
        {
          "output_type": "execute_result",
          "data": {
            "text/plain": [
              "'badgerbadgerbadgerbadgerbadger'"
            ],
            "application/vnd.google.colaboratory.intrinsic+json": {
              "type": "string"
            }
          },
          "metadata": {},
          "execution_count": 79
        }
      ]
    },
    {
      "cell_type": "markdown",
      "metadata": {
        "id": "GCvpkWzXXPTf"
      },
      "source": [
        "# Mission 4\n",
        "\n",
        "Display the following string without including the spaces at the beginning and end. There's a `string` method that does exactly that, look at the documentation!"
      ]
    },
    {
      "cell_type": "code",
      "metadata": {
        "id": "KZT8AIPF0ery",
        "colab": {
          "base_uri": "https://localhost:8080/",
          "height": 36
        },
        "outputId": "5891115c-4daa-4a2b-e132-6e900464fb2f"
      },
      "source": [
        "s = \"   Data Analyst  \"\n",
        "s.strip()"
      ],
      "execution_count": null,
      "outputs": [
        {
          "output_type": "execute_result",
          "data": {
            "text/plain": [
              "'Data Analyst'"
            ],
            "application/vnd.google.colaboratory.intrinsic+json": {
              "type": "string"
            }
          },
          "metadata": {},
          "execution_count": 83
        }
      ]
    },
    {
      "cell_type": "markdown",
      "metadata": {
        "id": "geMLdrvAYHKx"
      },
      "source": [
        "# Mission 5\n",
        "\n",
        "Ask the user for a string, then for a character, then for another character.\n",
        "\n",
        "Then, display the string where the occurences of the first character are replaced by the second one.  \n",
        "For example:\n",
        "* string = `\"Boulgour\"`  \n",
        "* 1st_char = `\"g\"`\n",
        "* 2nd_char = `\"v\"`\n",
        "\n",
        "Result : `\"Boulvour\"`"
      ]
    },
    {
      "cell_type": "code",
      "source": [
        "phrase = input( \"Choose a world : \")\n",
        "choice_1 = input(\"Choose a letter to replace : \")\n",
        "choice_2 = input(\"Choose the new letter : \")\n",
        "\n",
        "print(phrase.replace(choice_1, choice_2 ))"
      ],
      "metadata": {
        "id": "gGvK4X49OW0g",
        "colab": {
          "base_uri": "https://localhost:8080/"
        },
        "outputId": "7aeacf7c-1fe9-4c09-e8fb-f07be89953d4"
      },
      "execution_count": null,
      "outputs": [
        {
          "output_type": "stream",
          "name": "stdout",
          "text": [
            "Choose a world : letter\n",
            "Choose a letter to replace : e\n",
            "Choose the new letter : o\n",
            "lottor\n"
          ]
        }
      ]
    },
    {
      "cell_type": "markdown",
      "metadata": {
        "id": "V8ZS3aECXvuZ"
      },
      "source": [
        "# Mission 6\n",
        "\n",
        "Ask the user for a string. Then, display the same string with all vowels converted to uppercase, and all consonants converted to lowercase.  \n",
        "For example:\n",
        "* string = `\"Papa's got a brand new bag\"`  \n",
        "Result : `\"pApA's gOt A brAnd nEw bAg\"`\n"
      ]
    },
    {
      "cell_type": "code",
      "source": [
        "phrase = input( \"Choose a phrase : \")\n",
        "vowels = {\"a\",\"e\", \"i\", \"o\", \"u\", \"y\"}\n",
        "\n",
        "for i in phrase:\n",
        "  if i in vowels:\n",
        "    x= i.upper()\n",
        "    phrase=phrase.replace(i,x)\n",
        "  else:\n",
        "    x= i.lower()\n",
        "    phrase=phrase.replace(i,x)\n",
        "print(phrase)\n",
        "\n",
        "\n",
        "\n",
        "\n",
        "\n"
      ],
      "metadata": {
        "id": "w4s5g5nKOYPZ",
        "colab": {
          "base_uri": "https://localhost:8080/"
        },
        "outputId": "a05574ee-65ed-4e06-8dab-5af764339029"
      },
      "execution_count": null,
      "outputs": [
        {
          "output_type": "stream",
          "name": "stdout",
          "text": [
            "Choose a phrase : Ciao\n",
            "cIAO\n"
          ]
        }
      ]
    },
    {
      "cell_type": "code",
      "source": [],
      "metadata": {
        "id": "1ZyvW4vDy8J5"
      },
      "execution_count": null,
      "outputs": []
    }
  ]
}