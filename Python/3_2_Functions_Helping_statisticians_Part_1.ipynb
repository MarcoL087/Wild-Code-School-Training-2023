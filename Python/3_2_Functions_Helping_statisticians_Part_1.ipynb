{
  "nbformat": 4,
  "nbformat_minor": 0,
  "metadata": {
    "colab": {
      "provenance": []
    },
    "kernelspec": {
      "name": "python3",
      "display_name": "Python 3"
    }
  },
  "cells": [
    {
      "cell_type": "markdown",
      "metadata": {
        "id": "co2X9cGIieV0"
      },
      "source": [
        "# Help for statisticians!\n",
        "\n",
        "Your fellow statisticians need you. They want to learn how to program in Python and have tons of calculations to do.\n",
        "\n",
        "Very kindly, you agree to help them. Complete the missions below."
      ]
    },
    {
      "cell_type": "markdown",
      "metadata": {
        "id": "rvnKhKV7CVoS"
      },
      "source": [
        "![Einstien le génie](https://wallup.net/wp-content/uploads/2018/09/30/201016-funny-albert-einstein-748x468.jpg)"
      ]
    },
    {
      "cell_type": "code",
      "metadata": {
        "id": "S4jmbgw-kWcj",
        "colab": {
          "base_uri": "https://localhost:8080/",
          "height": 36
        },
        "outputId": "f1cbf731-d699-4616-ded2-882e4d6a3145"
      },
      "source": [
        "# Mission 1: Create a function, that simply returns the string \"Hello Python\"\n",
        "\n",
        "def message():\n",
        "  return \"Hello Python\"\n",
        "message()"
      ],
      "execution_count": null,
      "outputs": [
        {
          "output_type": "execute_result",
          "data": {
            "text/plain": [
              "'Hello Python'"
            ],
            "application/vnd.google.colaboratory.intrinsic+json": {
              "type": "string"
            }
          },
          "metadata": {},
          "execution_count": 1
        }
      ]
    },
    {
      "cell_type": "code",
      "source": [],
      "metadata": {
        "id": "tE2pvJ5u7TEk"
      },
      "execution_count": null,
      "outputs": []
    },
    {
      "cell_type": "code",
      "metadata": {
        "id": "4rJVUEkNk5Oo",
        "colab": {
          "base_uri": "https://localhost:8080/"
        },
        "outputId": "c04b9d02-972d-4081-a2d2-ec41cdcda950"
      },
      "source": [
        "# Mission 2: Create a function that takes in 2 numbers as parameters, and returns a boolean indicating whether or not they are equal\n",
        "\n",
        "num_1= int(input(\"Choose the first number : \"))\n",
        "num_2= int(input(\"Choose the second number : \"))\n",
        "\n",
        "def equalizer():\n",
        "  global num_1, num_2\n",
        "  if num_1 == num_2:\n",
        "    return True\n",
        "  else:\n",
        "    return False\n",
        "\n",
        "equalizer()\n",
        "\n"
      ],
      "execution_count": null,
      "outputs": [
        {
          "name": "stdout",
          "output_type": "stream",
          "text": [
            "Choose the first number : 7\n",
            "Choose the second number : 5\n"
          ]
        },
        {
          "output_type": "execute_result",
          "data": {
            "text/plain": [
              "False"
            ]
          },
          "metadata": {},
          "execution_count": 4
        }
      ]
    },
    {
      "cell_type": "code",
      "source": [
        "num_1= int(input(\"Choose a number : \"))\n",
        "\n",
        "def multiple(num):\n",
        "  i = 1\n",
        "  global liste\n",
        "  liste =[]\n",
        "  while i <= 10:\n",
        "    produit = num * i\n",
        "    liste.append(produit)\n",
        "    i += 1\n",
        "\n",
        "multiple(num_1)\n",
        "print(liste)"
      ],
      "metadata": {
        "colab": {
          "base_uri": "https://localhost:8080/"
        },
        "id": "y257oUkgZPMk",
        "outputId": "f62b5ef4-4b69-485b-bd05-3486f3fbd1b0"
      },
      "execution_count": null,
      "outputs": [
        {
          "output_type": "stream",
          "name": "stdout",
          "text": [
            "Choose a number : 5\n",
            "[5, 10, 15, 20, 25, 30, 35, 40, 45, 50]\n"
          ]
        }
      ]
    },
    {
      "cell_type": "code",
      "metadata": {
        "id": "Fe9kZrvklI0b",
        "colab": {
          "base_uri": "https://localhost:8080/"
        },
        "outputId": "9b97dbc5-7629-45cd-bae4-456d55c83f61"
      },
      "source": [
        "# Mission 4: Create a function that takes a string as input, and return its vowels only, preserving case.\n",
        "# Example: \"Antidisestablishmentarianism\" -> \"Aiieaieaiai\"\n",
        "# Example: \"TO BE OR NOT TO BE\" -> \"OEOOOE\"\n",
        "\n",
        "sentence_1= input(\"Choose a sentence : \")\n",
        "\n",
        "def keep_vowels(string):\n",
        "  vowels = [\"a\", \"e\", \"i\", \"o\", \"u\", \"y\", \"A\", \"E\", \"I\", \"O\", \"U\", \"Y\"]\n",
        "  for lettre in string:\n",
        "    if not lettre in vowels :\n",
        "      string = string.replace(lettre,\"\")\n",
        "  print(string)\n",
        "\n",
        "final_sentence = keep_vowels(sentence_1)\n"
      ],
      "execution_count": null,
      "outputs": [
        {
          "output_type": "stream",
          "name": "stdout",
          "text": [
            "Choose a sentence : koala IS an AnImal\n",
            "oaaIaAIa\n"
          ]
        }
      ]
    },
    {
      "cell_type": "code",
      "metadata": {
        "id": "7b3JtuNClm4a",
        "colab": {
          "base_uri": "https://localhost:8080/"
        },
        "outputId": "3d46ea89-ba81-465e-e6cc-485a0714def1"
      },
      "source": [
        "# Mission 5: Create a function that takes 2 numbers as parameters, and returns the result of a division operation.\n",
        "# Test if the denominator is equal to 0 and if so, display a message that says: \"You can't divide by zero\".\n",
        "\n",
        "num_1= int(input(\"Choose the first number : \"))\n",
        "num_2= int(input(\"Choose the second number : \"))\n",
        "\n",
        "def division_1(x, y):\n",
        "  if x and y == 0:\n",
        "    print(\"You can't divide by zero\")\n",
        "  else:\n",
        "    print(x/ y)\n",
        "\n",
        "final_division=division_1(num_1, num_2)\n",
        "\n"
      ],
      "execution_count": null,
      "outputs": [
        {
          "output_type": "stream",
          "name": "stdout",
          "text": [
            "Choose the first number : 9\n",
            "Choose the second number : 2\n",
            "4.5\n"
          ]
        }
      ]
    },
    {
      "cell_type": "code",
      "metadata": {
        "id": "6hjrrDyUlN8o"
      },
      "source": [
        "# Mission 6: First, choose two arithmetical operations (such as +, -, *, or /)\n",
        "# Then, create a function that takes in 3 numbers as parameters and carries out those operations, displays a message indicating if the result is positive, negative or zero, and finally returns the result.\n",
        "# If a division by zero is attempted, display an error message.\n",
        "\n",
        "# Example with multiplication and addition:\n",
        "# Calling with 0, 32, 2 will compute (0*32)+2, will display \"Positive result\", and return 2\n",
        "\n",
        "# Example with division and addition:\n",
        "# Calling with 21, 0, 3 will try to compute (21/0)+2, will display \"Divide-by-zero error\"\n"
      ],
      "execution_count": null,
      "outputs": []
    },
    {
      "cell_type": "code",
      "source": [
        "num_1= int(input(\"Choose the first number : \"))\n",
        "num_2= int(input(\"Choose the second number : \"))\n",
        "num_3= int(input(\"Choose the third number : \"))\n",
        "\n",
        "def operation_1(x,y,z):\n",
        "  tot=(x* y)/ z\n",
        "  if z == 0:\n",
        "    print(\"Division by zero is not defined\")\n",
        "  elif tot >= 0:\n",
        "    print(\"The result is positive : \", tot)\n",
        "  elif tot < 0:\n",
        "    print(\"The result is negative : \", tot)\n",
        "\n",
        "final_op=operation_1(num_1,num_2,num_3)"
      ],
      "metadata": {
        "id": "a93Ky3TxPC9V",
        "colab": {
          "base_uri": "https://localhost:8080/"
        },
        "outputId": "d8a11cb9-6343-4cc2-d9e4-0419049524bb"
      },
      "execution_count": null,
      "outputs": [
        {
          "output_type": "stream",
          "name": "stdout",
          "text": [
            "Choose the first number : 4\n",
            "Choose the second number : 8\n",
            "Choose the third number : 2\n",
            "The result is positive :  16.0\n"
          ]
        }
      ]
    },
    {
      "cell_type": "code",
      "metadata": {
        "id": "r6DP6oTDmqfs"
      },
      "source": [
        "# Mission 7: Create a function that takes a number as a parameter that corresponds to gross salary and returns the net salary for executives.\n",
        "# You can specify any amount of deductions, or base them on your country's example\n"
      ],
      "execution_count": null,
      "outputs": []
    },
    {
      "cell_type": "code",
      "source": [
        "salary= int(input(\"Enter your salary : \"))\n",
        "\n",
        "def brut_net(num):\n",
        "  taxes = 80\n",
        "  num_1= num- num*0.22\n",
        "  print(num_1-taxes)\n",
        "\n",
        "net_salary= brut_net(salary)\n",
        "\n"
      ],
      "metadata": {
        "id": "L_DsOazcPL9A",
        "colab": {
          "base_uri": "https://localhost:8080/"
        },
        "outputId": "bf768690-09e1-4fdb-e917-bc58d9c1dac7"
      },
      "execution_count": null,
      "outputs": [
        {
          "output_type": "stream",
          "name": "stdout",
          "text": [
            "Enter your salary : 2000\n",
            "1480.0\n"
          ]
        }
      ]
    },
    {
      "cell_type": "code",
      "metadata": {
        "id": "T57txpOLjVXv"
      },
      "source": [
        "# Mission 8: Create a function that can swap the values of any two variables, such as if variable A = 1 and variable B = 2, after applying the function, variable A = 2 and B = 1"
      ],
      "execution_count": null,
      "outputs": []
    },
    {
      "cell_type": "code",
      "metadata": {
        "id": "Qhlq9Dmukdhp",
        "colab": {
          "base_uri": "https://localhost:8080/"
        },
        "outputId": "21f3a2c9-2eae-4fb8-8a00-05a841c1c5cd"
      },
      "source": [
        "num_1=int(input(\"Choose the first number : \"))\n",
        "num_2=int(input(\"Choose the second number : \"))\n",
        "\n",
        "def switch_value(a, b):\n",
        "  a, b=b, a\n",
        "  print(\"a is now : \", a, \"and b is now : \",b)\n",
        "\n",
        "switch_value(num_1,num_2)"
      ],
      "execution_count": null,
      "outputs": [
        {
          "output_type": "stream",
          "name": "stdout",
          "text": [
            "Choose the first number : 5\n",
            "Choose the second number : 7\n",
            "a is now :  7 and b is now :  5\n"
          ]
        }
      ]
    },
    {
      "cell_type": "code",
      "metadata": {
        "id": "JDtpZ_1rkZSl"
      },
      "source": [],
      "execution_count": null,
      "outputs": []
    },
    {
      "cell_type": "markdown",
      "source": [],
      "metadata": {
        "id": "luK7wJDOpHIf"
      }
    }
  ]
}