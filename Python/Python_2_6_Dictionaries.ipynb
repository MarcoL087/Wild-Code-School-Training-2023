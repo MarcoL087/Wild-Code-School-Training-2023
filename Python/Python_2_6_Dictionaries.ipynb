{
  "nbformat": 4,
  "nbformat_minor": 0,
  "metadata": {
    "colab": {
      "provenance": []
    },
    "kernelspec": {
      "name": "python3",
      "display_name": "Python 3"
    }
  },
  "cells": [
    {
      "cell_type": "markdown",
      "metadata": {
        "id": "LoJw-LlCTnWF"
      },
      "source": [
        "# Mission 1\n",
        "\n",
        "Below is a dictionary containing the number of French campuses that offer each kind of Wild Code School course.\n",
        "\n",
        "wildcodeschool = {\n",
        "   \"data_analyst\": 4,\n",
        "   \"data_scientist\": 2,\n",
        "   \"dev_web\": \"13\"\n",
        "}\n",
        "\n",
        "Find a way to only display the keys that have int values."
      ]
    },
    {
      "cell_type": "code",
      "metadata": {
        "id": "C2Lk113KSPUO",
        "colab": {
          "base_uri": "https://localhost:8080/"
        },
        "outputId": "f6a9430b-334e-4f79-ce01-4d39c4fef665"
      },
      "source": [
        "wildcodeschool =\t{\n",
        "  \"data_analyst\": 4,\n",
        "  \"data_scientist\": 2,\n",
        "  \"dev_web\": \"13\",\n",
        "}\n",
        "for i, val in wildcodeschool.items():\n",
        "  if val==int(val):\n",
        "   print(val)"
      ],
      "execution_count": null,
      "outputs": [
        {
          "output_type": "stream",
          "name": "stdout",
          "text": [
            "4\n",
            "2\n"
          ]
        }
      ]
    },
    {
      "cell_type": "markdown",
      "metadata": {
        "id": "J3bsGIvAT049"
      },
      "source": [
        "# Mission 2\n",
        "\n",
        "For the same dictionary, find a way to display all the values that have a key that contains the letter \"e\"."
      ]
    },
    {
      "cell_type": "code",
      "source": [
        "wildcodeschool =\t{\n",
        "  \"data_analyst\": 4,\n",
        "  \"data_scientist\": 2,\n",
        "  \"dev_web\": \"13\",\n",
        "}\n",
        "for key, value in wildcodeschool.items():\n",
        "  for i in key:\n",
        "    if i == (\"e\"):\n",
        "      print(key, value)"
      ],
      "metadata": {
        "id": "pqi0ZWW_leuD",
        "colab": {
          "base_uri": "https://localhost:8080/"
        },
        "outputId": "181b8007-5820-4303-bf94-d3bfd2431bc3"
      },
      "execution_count": null,
      "outputs": [
        {
          "output_type": "stream",
          "name": "stdout",
          "text": [
            "data_scientist 2\n",
            "dev_web 13\n",
            "dev_web 13\n"
          ]
        }
      ]
    },
    {
      "cell_type": "markdown",
      "source": [
        "# Mission 3\n",
        "\n",
        "Within the same dictionary, change the type of the value of the \"dev_web\" key to be an int. Then add a new key-value pair which will be \"total_campus\" : 19, using a **dictionary method**."
      ],
      "metadata": {
        "id": "HamtHQKcBHWb"
      }
    },
    {
      "cell_type": "markdown",
      "source": [
        "**Change the value of \"dev_web\" to be and int :**"
      ],
      "metadata": {
        "id": "tMnpTL2qBWB2"
      }
    },
    {
      "cell_type": "code",
      "source": [
        "# We will use the int() function for that\n",
        "\n",
        "wildcodeschool =\t{\n",
        "  \"data_analyst\": 4,\n",
        "  \"data_scientist\": 2,\n",
        "  \"dev_web\": \"13\",\n",
        "}\n",
        "\n",
        "wildcodeschool[\"dev_web\"] = int(\"13\")\n",
        "print(type(wildcodeschool[\"dev_web\"]))\n"
      ],
      "metadata": {
        "id": "9pzYoLPABSix",
        "colab": {
          "base_uri": "https://localhost:8080/"
        },
        "outputId": "2bef0f50-6ffa-496b-a4da-b8e22b998570"
      },
      "execution_count": null,
      "outputs": [
        {
          "output_type": "stream",
          "name": "stdout",
          "text": [
            "<class 'int'>\n"
          ]
        }
      ]
    },
    {
      "cell_type": "markdown",
      "source": [
        "**Add a new key-value pair which will be \"total_campus\" : 19, using a dictionary method**"
      ],
      "metadata": {
        "id": "nSSqT5GYBzEI"
      }
    },
    {
      "cell_type": "code",
      "source": [
        "## Method 1\n",
        "# We will add a new key-value pair to the dictionary using the update() method which is a dictionary method\n",
        "\n",
        "wildcodeschool =\t{\n",
        "  \"data_analyst\": 4,\n",
        "  \"data_scientist\": 2,\n",
        "  \"dev_web\": \"13\",\n",
        "}\n",
        "new_item = {\"total_campus\":19}\n",
        "\n",
        "wildcodeschool.update(new_item)\n",
        "\n",
        "print(wildcodeschool)"
      ],
      "metadata": {
        "id": "E6YzAeNJB0kp",
        "colab": {
          "base_uri": "https://localhost:8080/"
        },
        "outputId": "060edb00-d074-4a24-d919-accd17512cae"
      },
      "execution_count": null,
      "outputs": [
        {
          "output_type": "stream",
          "name": "stdout",
          "text": [
            "{'data_analyst': 4, 'data_scientist': 2, 'dev_web': '13', 'total_campus': 19}\n"
          ]
        }
      ]
    },
    {
      "cell_type": "code",
      "source": [
        "## Method 2\n",
        "# We can also create a new key-value pair using the following method\n",
        "\n",
        "wildcodeschool =\t{\n",
        "  \"data_analyst\": 4,\n",
        "  \"data_scientist\": 2,\n",
        "  \"dev_web\": \"13\",\n",
        "}\n",
        "\n",
        "wildcodeschool[\"total_campus\"] = 19\n",
        "print(wildcodeschool)\n"
      ],
      "metadata": {
        "id": "aYW0EVuzB-rm",
        "colab": {
          "base_uri": "https://localhost:8080/"
        },
        "outputId": "cc0e2dc8-17fb-4d7e-898f-dbc8024a3ccb"
      },
      "execution_count": null,
      "outputs": [
        {
          "output_type": "stream",
          "name": "stdout",
          "text": [
            "{'data_analyst': 4, 'data_scientist': 2, 'dev_web': '13', 'total_campus': 19}\n"
          ]
        }
      ]
    },
    {
      "cell_type": "markdown",
      "metadata": {
        "id": "GCvpkWzXXPTf"
      },
      "source": [
        "# Mission 4\n",
        "\n",
        "Take the dictionary generated from mission 3. Delete the key value pair :\n",
        "- 'dev_web': 13 using a method\n",
        "- 'total_campus': 19 using another method"
      ]
    },
    {
      "cell_type": "code",
      "source": [
        "dict_1 = {\n",
        "  'data_analyst': 4,\n",
        " 'data_scientist': 2,\n",
        " 'dev_web': '13',\n",
        " 'total_campus': 19}\n",
        "\n",
        "dict_1.pop('dev_web')\n",
        "\n",
        "#people[\"Ayoub\"]       pas arrivé à intégrer cette partie\n",
        "#print(type(people[\"Ayoub\"]))\n",
        "\n",
        "print(dict_1)"
      ],
      "metadata": {
        "id": "-bgbC_IGV2dt",
        "colab": {
          "base_uri": "https://localhost:8080/"
        },
        "outputId": "f2aecbc7-9803-4861-f810-5bb0b0c3d31e"
      },
      "execution_count": null,
      "outputs": [
        {
          "output_type": "stream",
          "name": "stdout",
          "text": [
            "{'data_analyst': 4, 'data_scientist': 2, 'total_campus': 19}\n"
          ]
        }
      ]
    },
    {
      "cell_type": "code",
      "metadata": {
        "id": "QjLMjogySPk_",
        "colab": {
          "base_uri": "https://localhost:8080/"
        },
        "outputId": "a9959c94-7ef9-40e6-db20-de61f2942ca1"
      },
      "source": [
        "dict_1 = {\n",
        "  'data_analyst': 4,\n",
        " 'data_scientist': 2,\n",
        " 'dev_web': '13',\n",
        " 'total_campus': 19}\n",
        "\n",
        "del dict_1[\"total_campus\"]\n",
        "print(dict_1)"
      ],
      "execution_count": null,
      "outputs": [
        {
          "output_type": "stream",
          "name": "stdout",
          "text": [
            "{'data_analyst': 4, 'data_scientist': 2, 'dev_web': '13'}\n"
          ]
        }
      ]
    },
    {
      "cell_type": "markdown",
      "metadata": {
        "id": "V8ZS3aECXvuZ"
      },
      "source": [
        "# Mission 5\n",
        "\n",
        "Still within the dictionary generated from Mission 3, find a way to display the dictionary keys in alphabetical order."
      ]
    },
    {
      "cell_type": "code",
      "metadata": {
        "id": "ph_j97PoSPmU",
        "colab": {
          "base_uri": "https://localhost:8080/"
        },
        "outputId": "7a2325ba-1465-40a0-9ed9-f7487649b213"
      },
      "source": [
        "dict_1 = {\n",
        "  'data_analyst': 4,\n",
        " 'data_scientist': 2,\n",
        "  'total_campus': 19,\n",
        " 'dev_web': '13',\n",
        " }\n",
        "\n",
        "dict_2 = list(dict_1.keys())\n",
        "dict_2.sort()\n",
        "sorted_dict = {i: dict_1[i] for i in dict_2}\n",
        "\n",
        "print(sorted_dict)"
      ],
      "execution_count": null,
      "outputs": [
        {
          "output_type": "stream",
          "name": "stdout",
          "text": [
            "{'data_analyst': 4, 'data_scientist': 2, 'dev_web': '13', 'total_campus': 19}\n"
          ]
        }
      ]
    },
    {
      "cell_type": "markdown",
      "metadata": {
        "id": "geMLdrvAYHKx"
      },
      "source": [
        "# Mission 6\n",
        "\n",
        "Create a script that returns the same elements as the **values()** method, as a list.\n",
        "\n",
        "Example: for `{'a': 1, 'b': 2, 'c': 3}` it will create `[1, 2, 3]`"
      ]
    },
    {
      "cell_type": "code",
      "metadata": {
        "id": "1-cenx3RSPpq",
        "colab": {
          "base_uri": "https://localhost:8080/"
        },
        "outputId": "cac4c8d2-5923-4ed5-a610-6ead9497c4e5"
      },
      "source": [
        "dict_1= {'a': 1, 'b': 2, 'c': 3}\n",
        "\n",
        "list_1 = []\n",
        "for i in dict_1.values():\n",
        "    list_1.append(i)\n",
        "print(list_1)"
      ],
      "execution_count": null,
      "outputs": [
        {
          "output_type": "stream",
          "name": "stdout",
          "text": [
            "[1, 2, 3]\n"
          ]
        }
      ]
    },
    {
      "cell_type": "code",
      "source": [
        "dict_1= {'a': 1, 'b': 2, 'c': 3}\n",
        "\n",
        "my_list = list(dict_1.values())\n",
        "\n",
        "print(my_list)"
      ],
      "metadata": {
        "id": "WYBmgs02qyny",
        "colab": {
          "base_uri": "https://localhost:8080/"
        },
        "outputId": "0a50b41a-1ec8-4927-950c-36736579551f"
      },
      "execution_count": null,
      "outputs": [
        {
          "output_type": "stream",
          "name": "stdout",
          "text": [
            "[1, 2, 3]\n"
          ]
        }
      ]
    },
    {
      "cell_type": "code",
      "source": [
        "dict_1= {'a': 1, 'b': 2, 'c': 3}\n",
        "\n",
        "my_list = [i for i in dict_1.values()]\n",
        "\n",
        "print(my_list)"
      ],
      "metadata": {
        "id": "_XLFIXYcrJ-B",
        "colab": {
          "base_uri": "https://localhost:8080/"
        },
        "outputId": "d0fe9e32-7302-4093-99a3-0c9a60f803ff"
      },
      "execution_count": null,
      "outputs": [
        {
          "output_type": "stream",
          "name": "stdout",
          "text": [
            "[1, 2, 3]\n"
          ]
        }
      ]
    }
  ]
}