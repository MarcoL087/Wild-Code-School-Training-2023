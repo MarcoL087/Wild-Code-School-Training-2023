{
  "nbformat": 4,
  "nbformat_minor": 0,
  "metadata": {
    "colab": {
      "provenance": []
    },
    "kernelspec": {
      "name": "python3",
      "display_name": "Python 3"
    },
    "language_info": {
      "name": "python"
    }
  },
  "cells": [
    {
      "cell_type": "markdown",
      "source": [
        "There is another type object we didn't talked about: `set`  \n",
        "It looks like a `dictionaries`, but it's not a dictionaries."
      ],
      "metadata": {
        "id": "iOaZdJNUw9sA"
      }
    },
    {
      "cell_type": "code",
      "source": [
        "my_set = {\"apple\", \"kiwi\", \"pineapple\"}"
      ],
      "metadata": {
        "id": "HRsoiLZC5wmE"
      },
      "execution_count": null,
      "outputs": []
    },
    {
      "cell_type": "code",
      "source": [
        "type(my_set)"
      ],
      "metadata": {
        "colab": {
          "base_uri": "https://localhost:8080/"
        },
        "id": "-oEmyHpTwNe-",
        "outputId": "9fe9fbc8-824b-47c1-b9d4-dcedf1a2a05a"
      },
      "execution_count": null,
      "outputs": [
        {
          "output_type": "execute_result",
          "data": {
            "text/plain": [
              "set"
            ]
          },
          "metadata": {},
          "execution_count": 2
        }
      ]
    },
    {
      "cell_type": "markdown",
      "source": [
        "Question : Why `myset` is not a object from `dict` class ?"
      ],
      "metadata": {
        "id": "3SQwkD7TxRLa"
      }
    },
    {
      "cell_type": "markdown",
      "source": [
        "Answer : A dict must have a a key-value structure. A set is a collection of unique elements, like in the example"
      ],
      "metadata": {
        "id": "IYSIv3moxkdx"
      }
    },
    {
      "cell_type": "markdown",
      "source": [
        "Another specificity from `set` object is that they cannot have two items with the same values. Execute the cells below."
      ],
      "metadata": {
        "id": "A4otkNd2x6Tk"
      }
    },
    {
      "cell_type": "code",
      "source": [
        "a_set = {\"banana\", \"lemon\", \"lemon\", \"cherry\", \"lemon\", \"strawberry\", \"lemon\" }"
      ],
      "metadata": {
        "id": "K-PLnHTuwwEz"
      },
      "execution_count": null,
      "outputs": []
    },
    {
      "cell_type": "code",
      "source": [
        "a_set = {\"banana\", \"lemon\", \"lemon\", \"cherry\", \"lemon\", \"strawberry\", \"lemon\" }\n",
        "a_set\n"
      ],
      "metadata": {
        "colab": {
          "base_uri": "https://localhost:8080/"
        },
        "id": "kids3QsSyfkM",
        "outputId": "2ce9b75f-54e0-4338-c745-bbe2f9ab1b26"
      },
      "execution_count": null,
      "outputs": [
        {
          "output_type": "execute_result",
          "data": {
            "text/plain": [
              "{'banana', 'cherry', 'lemon', 'strawberry'}"
            ]
          },
          "metadata": {},
          "execution_count": 3
        }
      ]
    },
    {
      "cell_type": "markdown",
      "source": [
        "Question :  \n",
        "Hom many items have the sets below ?\n",
        "To answer, to can use your knowledge or the `len()` function."
      ],
      "metadata": {
        "id": "__0F2pryyq5g"
      }
    },
    {
      "cell_type": "code",
      "source": [
        "this_set = {1, 2, 3, 1, 2, 4, 1, 4, 3, 5, 6, 8, 9, 8, 3, 7, 6, 8, 6, 8, 9}\n",
        "dir(this_set)"
      ],
      "metadata": {
        "id": "UWbbfikQygNO"
      },
      "execution_count": null,
      "outputs": []
    },
    {
      "cell_type": "code",
      "source": [
        "this_set = {1, 2, 3, 1, 2, 4, 1, 4, 3, 5, 6, 8, 9, 8, 3, 7, 6, 8, 6, 8, 9}\n",
        "print(len(this_set))"
      ],
      "metadata": {
        "id": "Q62tigIg6Lf1",
        "colab": {
          "base_uri": "https://localhost:8080/"
        },
        "outputId": "35a409dd-edd4-40c4-d2dc-cf9122c8d475"
      },
      "execution_count": null,
      "outputs": [
        {
          "output_type": "stream",
          "name": "stdout",
          "text": [
            "9\n"
          ]
        }
      ]
    },
    {
      "cell_type": "markdown",
      "source": [
        "Question :  \n",
        "Does a set can contains elements with differents types ?"
      ],
      "metadata": {
        "id": "ES1OCVL9zaAK"
      }
    },
    {
      "cell_type": "code",
      "source": [
        "# try to make a set with objects with different types here:\n",
        "answer = {\"hey\", 2, True, 2.33}\n",
        "\n",
        "answer = set(answer)\n",
        "print(answer)\n",
        "print(type(answer))\n"
      ],
      "metadata": {
        "id": "fZ5t11yEzMHB",
        "colab": {
          "base_uri": "https://localhost:8080/"
        },
        "outputId": "eac9f4b0-0857-439c-bb21-394ad76d7eb5"
      },
      "execution_count": null,
      "outputs": [
        {
          "output_type": "stream",
          "name": "stdout",
          "text": [
            "{True, 2, 'hey', 2.33}\n",
            "<class 'set'>\n"
          ]
        }
      ]
    },
    {
      "cell_type": "markdown",
      "source": [
        "Question :  \n",
        "Considering the list below, there is a simple way to know the amount of unique values from this list. How ?"
      ],
      "metadata": {
        "id": "0LSXvAmxz5JM"
      }
    },
    {
      "cell_type": "code",
      "source": [
        "# Try to count the amount of unique values from this list, in one line of code.\n",
        "\n",
        "a_list = [1, 2, 3, 1, 2, 4, 1, 4, 3, 5, 6, 8, 9, 8, 3, 7, 6, 8, 6, 8, 9]\n",
        "\n",
        "a_list= set(a_list)\n",
        "print(len(a_list))\n"
      ],
      "metadata": {
        "id": "hojccL3Qz3nJ",
        "colab": {
          "base_uri": "https://localhost:8080/"
        },
        "outputId": "23af635d-806b-4695-e101-03ee2af106ea"
      },
      "execution_count": null,
      "outputs": [
        {
          "output_type": "stream",
          "name": "stdout",
          "text": [
            "9\n"
          ]
        }
      ]
    },
    {
      "cell_type": "markdown",
      "source": [
        "There are four collection data types in the Python programming language:\n",
        "\n",
        "* `List` is a collection which is ordered and changeable. Allows duplicate members.\n",
        "* `Tuple` is a collection which is ordered and unchangeable. Allows duplicate members.\n",
        "* `Set` is a collection which is unordered, unchangeable, and unindexed. No duplicate members, but you can remove items and add new items.\n",
        "* `Dictionary` is a collection which is ordered and changeable. No duplicate members."
      ],
      "metadata": {
        "id": "GNHMN2z702c4"
      }
    },
    {
      "cell_type": "markdown",
      "source": [
        "Question :   \n",
        "Find a way to access to the first value of `this_set`"
      ],
      "metadata": {
        "id": "RBT2xWlL1-3Y"
      }
    },
    {
      "cell_type": "code",
      "source": [
        "this_set1= list(this_set)\n",
        "this_set1[1]"
      ],
      "metadata": {
        "id": "SLr8_oFV6P2o",
        "colab": {
          "base_uri": "https://localhost:8080/"
        },
        "outputId": "b234e08d-5de7-488c-c6a2-b25163ad142d"
      },
      "execution_count": null,
      "outputs": [
        {
          "output_type": "execute_result",
          "data": {
            "text/plain": [
              "2"
            ]
          },
          "metadata": {},
          "execution_count": 12
        }
      ]
    },
    {
      "cell_type": "markdown",
      "source": [
        "Question :  \n",
        "Find a way to add a value that will be unique in `a_set`"
      ],
      "metadata": {
        "id": "wzNCOWt73F-i"
      }
    },
    {
      "cell_type": "code",
      "source": [
        "a_set\n",
        "a_set.add('mango')\n",
        "a_set"
      ],
      "metadata": {
        "colab": {
          "base_uri": "https://localhost:8080/"
        },
        "id": "ePwn6A1U13us",
        "outputId": "d376d80a-e628-4ed4-f82c-680aac97b319"
      },
      "execution_count": null,
      "outputs": [
        {
          "output_type": "execute_result",
          "data": {
            "text/plain": [
              "{'banana', 'cherry', 'lemon', 'mango', 'strawberry'}"
            ]
          },
          "metadata": {},
          "execution_count": 16
        }
      ]
    },
    {
      "cell_type": "markdown",
      "source": [
        "Question :  \n",
        "Now, you have to add the value from `this_set` to `a_set`:"
      ],
      "metadata": {
        "id": "ROPmLE4d3fNm"
      }
    },
    {
      "cell_type": "code",
      "source": [
        "a_set.union(this_set)"
      ],
      "metadata": {
        "id": "yuIZSU-p6SkW",
        "colab": {
          "base_uri": "https://localhost:8080/"
        },
        "outputId": "4a55f946-e456-423f-a9db-6ddc530913bb"
      },
      "execution_count": null,
      "outputs": [
        {
          "output_type": "execute_result",
          "data": {
            "text/plain": [
              "{1, 2, 3, 4, 5, 6, 7, 8, 9, 'banana', 'cherry', 'lemon', 'mango', 'strawberry'}"
            ]
          },
          "metadata": {},
          "execution_count": 21
        }
      ]
    },
    {
      "cell_type": "markdown",
      "source": [
        "Question :    \n",
        "If you display a `set` object, it's not display with the same order you define it. What can you say about the order the element are display ?"
      ],
      "metadata": {
        "id": "8mjIqZuD3x7m"
      }
    },
    {
      "cell_type": "markdown",
      "source": [
        "Answer: Order of items in sets is not important\n"
      ],
      "metadata": {
        "id": "vZmfsNO64Kq_"
      }
    },
    {
      "cell_type": "markdown",
      "source": [
        "Question :    \n",
        "Find a way to display the elements that exist in both sets."
      ],
      "metadata": {
        "id": "D8f0iGCV49Cb"
      }
    },
    {
      "cell_type": "code",
      "source": [
        "a_set = {\"banana\", \"grapes\", \"cherry\", \"pineapple\", \"kiwi\", \"strawberry\"}\n",
        "\n",
        "b_set = {\"lemon\", \"kiwi\", \"grapes\", \"blueberry\", \"watermelon\"}\n",
        "\n",
        "a_set.intersection(b_set)"
      ],
      "metadata": {
        "id": "D59WGohD3pb-",
        "colab": {
          "base_uri": "https://localhost:8080/"
        },
        "outputId": "0b00af6c-6b17-4b78-a9fa-23bd0eddc62a"
      },
      "execution_count": null,
      "outputs": [
        {
          "output_type": "execute_result",
          "data": {
            "text/plain": [
              "{'grapes', 'kiwi'}"
            ]
          },
          "metadata": {},
          "execution_count": 23
        }
      ]
    },
    {
      "cell_type": "markdown",
      "source": [
        "There is other methods for `set` objects, that you can find [here](https://www.w3schools.com/python/python_ref_set.asp)."
      ],
      "metadata": {
        "id": "ZgWrjjPP5bQP"
      }
    }
  ]
}