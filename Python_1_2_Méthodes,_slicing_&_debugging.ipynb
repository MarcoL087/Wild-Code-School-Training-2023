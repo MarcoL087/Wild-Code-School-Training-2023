{
  "nbformat": 4,
  "nbformat_minor": 0,
  "metadata": {
    "colab": {
      "provenance": [],
      "include_colab_link": true
    },
    "kernelspec": {
      "name": "python3",
      "display_name": "Python 3"
    },
    "language_info": {
      "name": "python"
    }
  },
  "cells": [
    {
      "cell_type": "markdown",
      "metadata": {
        "id": "view-in-github",
        "colab_type": "text"
      },
      "source": [
        "<a href=\"https://colab.research.google.com/github/MarcoL087/Wild-Code-School-Training-2023/blob/main/Python_1_2_M%C3%A9thodes%2C_slicing_%26_debugging.ipynb\" target=\"_parent\"><img src=\"https://colab.research.google.com/assets/colab-badge.svg\" alt=\"Open In Colab\"/></a>"
      ]
    },
    {
      "cell_type": "markdown",
      "source": [
        "# Méthodes"
      ],
      "metadata": {
        "id": "2fIBM1WeK8hQ"
      }
    },
    {
      "cell_type": "markdown",
      "source": [
        "## `String`"
      ],
      "metadata": {
        "id": "wHK61RAvsWqf"
      }
    },
    {
      "cell_type": "markdown",
      "source": [
        "1.1 Utilisez une [méthode](https://runestone.academy/ns/books/published/py4e-int/strings/methods.html) Python qui permet de supprimer les espaces au début et à la fin du `string`suivant:"
      ],
      "metadata": {
        "id": "5pQ3lO0VA8pv"
      }
    },
    {
      "cell_type": "code",
      "source": [
        "x = \" Hello  World    \"\n",
        "str.strip(x)\n"
      ],
      "metadata": {
        "id": "Ndbz2h4JAmIJ",
        "colab": {
          "base_uri": "https://localhost:8080/",
          "height": 36
        },
        "outputId": "b6b63a0c-a6f6-4d0a-de95-35b84d01bd11"
      },
      "execution_count": null,
      "outputs": [
        {
          "output_type": "execute_result",
          "data": {
            "text/plain": [
              "'Hello  World'"
            ],
            "application/vnd.google.colaboratory.intrinsic+json": {
              "type": "string"
            }
          },
          "metadata": {},
          "execution_count": 9
        }
      ]
    },
    {
      "cell_type": "markdown",
      "source": [
        "1.2 Utilisez une méthode Python qui permet de mettre en majuscules le `string` suivant:"
      ],
      "metadata": {
        "id": "Gq9puPLsGR4_"
      }
    },
    {
      "cell_type": "code",
      "source": [
        "x = \"Hi Denis ! Look at me, I'm a Vampire !\"\n",
        "str.upper(x)"
      ],
      "metadata": {
        "id": "VUPVZk9IBLXJ",
        "colab": {
          "base_uri": "https://localhost:8080/",
          "height": 36
        },
        "outputId": "532a5d92-db9e-458f-b6f3-6bce490beafc"
      },
      "execution_count": null,
      "outputs": [
        {
          "output_type": "execute_result",
          "data": {
            "text/plain": [
              "\"HI DENIS ! LOOK AT ME, I'M A VAMPIRE !\""
            ],
            "application/vnd.google.colaboratory.intrinsic+json": {
              "type": "string"
            }
          },
          "metadata": {},
          "execution_count": 17
        }
      ]
    },
    {
      "cell_type": "markdown",
      "source": [
        "1.3 Remplacez les caractères \"f\" par \"n\", et \"v\" par \"t\":"
      ],
      "metadata": {
        "id": "6KFS546UHhT5"
      }
    },
    {
      "cell_type": "code",
      "source": [
        "x = \"C'est une boffe situavion scribe ?\"\n",
        "x.replace('f', 'n').replace('v', 't')\n"
      ],
      "metadata": {
        "id": "jd6J6v84HJCd",
        "colab": {
          "base_uri": "https://localhost:8080/",
          "height": 36
        },
        "outputId": "650e683c-1630-4db0-c403-91637560ec4f"
      },
      "execution_count": null,
      "outputs": [
        {
          "output_type": "execute_result",
          "data": {
            "text/plain": [
              "\"C'est une bonne situation scribe ?\""
            ],
            "application/vnd.google.colaboratory.intrinsic+json": {
              "type": "string"
            }
          },
          "metadata": {},
          "execution_count": 50
        }
      ]
    },
    {
      "cell_type": "markdown",
      "source": [
        "# Slicing"
      ],
      "metadata": {
        "id": "7fwx_-DuC9Eh"
      }
    },
    {
      "cell_type": "markdown",
      "source": [
        "2.1 Maintenant, récupérez la première lettre du `string` suivant:"
      ],
      "metadata": {
        "id": "rBikvZkAC99G"
      }
    },
    {
      "cell_type": "code",
      "source": [
        "x = \"Hello World\"\n",
        "print (x[0])"
      ],
      "metadata": {
        "id": "OstzYvLSDCTK",
        "colab": {
          "base_uri": "https://localhost:8080/"
        },
        "outputId": "ba48ff4b-f3a4-4978-edfa-7572666106f8"
      },
      "execution_count": null,
      "outputs": [
        {
          "output_type": "stream",
          "name": "stdout",
          "text": [
            "H\n"
          ]
        }
      ]
    },
    {
      "cell_type": "markdown",
      "source": [
        "2.2 Récupérez le premier élément de la `liste` suivante:"
      ],
      "metadata": {
        "id": "f69qj_X_DHkn"
      }
    },
    {
      "cell_type": "code",
      "source": [
        "x = [\"mintcream\", \"burlywood\", \"salmon\"]\n",
        "print (x[0])"
      ],
      "metadata": {
        "id": "-Y1AkD0vDKoO",
        "colab": {
          "base_uri": "https://localhost:8080/"
        },
        "outputId": "a84501b0-2f9e-41ec-9214-10253fe9c02e"
      },
      "execution_count": null,
      "outputs": [
        {
          "output_type": "stream",
          "name": "stdout",
          "text": [
            "mintcream\n"
          ]
        }
      ]
    },
    {
      "cell_type": "markdown",
      "source": [
        "2.3 Récupérez le premier élément du tuple suivant:"
      ],
      "metadata": {
        "id": "yyccxp7WDNTX"
      }
    },
    {
      "cell_type": "code",
      "source": [
        "x = (\"burlywood\", \"salmon\", \"mintcream\")\n",
        "print (x[0])"
      ],
      "metadata": {
        "id": "xNVvDcy_DPyr",
        "colab": {
          "base_uri": "https://localhost:8080/"
        },
        "outputId": "ce40008e-367a-4a84-8ef8-7b5448ed7ef0"
      },
      "execution_count": null,
      "outputs": [
        {
          "output_type": "stream",
          "name": "stdout",
          "text": [
            "burlywood\n"
          ]
        }
      ]
    },
    {
      "cell_type": "markdown",
      "source": [
        "2.4 Récupérez le premier élément du dict suivant:"
      ],
      "metadata": {
        "id": "MtVLa5ZJDR9K"
      }
    },
    {
      "cell_type": "code",
      "source": [
        "x = {\"name\": \"Jules César\", \"Job\": \"Musician\", \"age\": 55}\n",
        "print (list(x.items())[0])\n",
        "\n"
      ],
      "metadata": {
        "id": "o_LVNAk4DU1p",
        "colab": {
          "base_uri": "https://localhost:8080/"
        },
        "outputId": "c3ff5031-5671-41a3-9268-52ded4de3a9d"
      },
      "execution_count": null,
      "outputs": [
        {
          "output_type": "stream",
          "name": "stdout",
          "text": [
            "('name', 'Jules César')\n"
          ]
        }
      ]
    },
    {
      "cell_type": "markdown",
      "source": [
        "\n",
        "Pour un dict, on ne parle pas d'éléments, mais de clés 'keys\" et valeurs \"values\"."
      ],
      "metadata": {
        "id": "cz-FT7QIDWnx"
      }
    },
    {
      "cell_type": "markdown",
      "source": [
        "2.5 Récupérez la valeur de la clé name:"
      ],
      "metadata": {
        "id": "065WT9jhDbFV"
      }
    },
    {
      "cell_type": "code",
      "source": [
        "x = {\"name\": \"Jules César\", \"Job\": \"Musician\", \"age\": 55}"
      ],
      "metadata": {
        "id": "Osa85L8cDdRI"
      },
      "execution_count": null,
      "outputs": []
    },
    {
      "cell_type": "code",
      "source": [
        "print (x.get(\"name\",0))"
      ],
      "metadata": {
        "colab": {
          "base_uri": "https://localhost:8080/"
        },
        "id": "DkNhN_7UgXYp",
        "outputId": "853463dd-6213-4a4d-a91a-7dee73741aa0"
      },
      "execution_count": null,
      "outputs": [
        {
          "output_type": "stream",
          "name": "stdout",
          "text": [
            "Jules César\n"
          ]
        }
      ]
    },
    {
      "cell_type": "markdown",
      "source": [
        "2.6 Récupérez la clé associée à la première valeur:"
      ],
      "metadata": {
        "id": "qqaDoItlDdxG"
      }
    },
    {
      "cell_type": "code",
      "source": [
        "toto = {\"name\": \"Jules César\", \"Job\": \"Musician\", \"age\": 55}"
      ],
      "metadata": {
        "id": "tJfcT2h6Dgie"
      },
      "execution_count": null,
      "outputs": []
    },
    {
      "cell_type": "code",
      "source": [
        "print (list(x.keys())[0])\n",
        "\n"
      ],
      "metadata": {
        "colab": {
          "base_uri": "https://localhost:8080/"
        },
        "id": "YC5Vx4qsjy0x",
        "outputId": "d506d5b4-f1d4-44e9-885d-5a6fbce39b4c"
      },
      "execution_count": null,
      "outputs": [
        {
          "output_type": "stream",
          "name": "stdout",
          "text": [
            "name\n"
          ]
        }
      ]
    },
    {
      "cell_type": "markdown",
      "source": [
        "2.7 Maintenant, récupérez les caractères de l'indice de 2 à 4 ('llo') inclus du string suivant:"
      ],
      "metadata": {
        "id": "tEuqgeI-Dk3N"
      }
    },
    {
      "cell_type": "code",
      "source": [
        "x = \"Hello World\"\n",
        "print (x[2:5])"
      ],
      "metadata": {
        "id": "6Hc0Db9dDh_z",
        "colab": {
          "base_uri": "https://localhost:8080/"
        },
        "outputId": "afb754d7-0413-482b-fa0d-f7318bcf6978"
      },
      "execution_count": null,
      "outputs": [
        {
          "output_type": "stream",
          "name": "stdout",
          "text": [
            "llo\n"
          ]
        }
      ]
    },
    {
      "cell_type": "markdown",
      "source": [
        "2.8 Récupérez les éléments aux indices 2 à 4 inclus [\"salmon ... \"blanchedalmond\"] de la list suivante:"
      ],
      "metadata": {
        "id": "B9SUudviDvVW"
      }
    },
    {
      "cell_type": "code",
      "source": [
        "x = [\"mintcream\", \"burlywood\", \"salmon\", \"aliceblue\", \"blanchedalmond\", \"cornflowerblue\", \"lavenderblush\"]\n",
        "print (x[2:5])\n"
      ],
      "metadata": {
        "id": "57U4hW0LDv8A",
        "colab": {
          "base_uri": "https://localhost:8080/"
        },
        "outputId": "a083b3fb-51e9-4bfd-b277-db0b9a5945bf"
      },
      "execution_count": null,
      "outputs": [
        {
          "output_type": "stream",
          "name": "stdout",
          "text": [
            "['salmon', 'aliceblue', 'blanchedalmond']\n"
          ]
        }
      ]
    },
    {
      "cell_type": "markdown",
      "source": [
        "# Code debugging"
      ],
      "metadata": {
        "id": "CL5q7sJpLC5l"
      }
    },
    {
      "cell_type": "markdown",
      "source": [
        "3.1 Dans le code ci-dessous, remplacez \"...\" par la syntaxe qui convient pour que la phrase s'affiche en sortie:"
      ],
      "metadata": {
        "id": "tARLcBqkI6UK"
      }
    },
    {
      "cell_type": "code",
      "source": [
        "fruits = [\"apple\", \"banana\"]\n",
        "if \"apple\" != fruits:\n",
        "  print(\"Yes, apple is a fruit!\")"
      ],
      "metadata": {
        "colab": {
          "base_uri": "https://localhost:8080/"
        },
        "id": "g9i3_Yb-H0fG",
        "outputId": "33e869b5-7599-4ad9-8819-9139bee08648"
      },
      "execution_count": null,
      "outputs": [
        {
          "output_type": "stream",
          "name": "stdout",
          "text": [
            "Yes, apple is a fruit!\n"
          ]
        }
      ]
    },
    {
      "cell_type": "markdown",
      "source": [
        "3.2 Dans le code ci-dessous, remplacez \"...\" par l'opérateur booléen `or` ou `and` qui convient pour que la phrase s'affiche en sortie:"
      ],
      "metadata": {
        "id": "54ZgZmseOmA7"
      }
    },
    {
      "cell_type": "code",
      "source": [
        "if 12 < 5 or 3 == 3:\n",
        "  print(\"Here we go !\")"
      ],
      "metadata": {
        "colab": {
          "base_uri": "https://localhost:8080/"
        },
        "id": "mBxDU3GlOno4",
        "outputId": "929e18f9-6368-416d-ac3f-e335ebf2cf08"
      },
      "execution_count": null,
      "outputs": [
        {
          "output_type": "stream",
          "name": "stdout",
          "text": [
            "Here we go !\n"
          ]
        }
      ]
    },
    {
      "cell_type": "markdown",
      "source": [
        "3.3 Modifiez le code ci-dessous pour que la phrase s'affiche."
      ],
      "metadata": {
        "id": "IHdB-6tcLLPz"
      }
    },
    {
      "cell_type": "code",
      "source": [
        "fruits = [\"kiwi\", \"strawberry\", \"lemon\"]\n",
        "\n",
        "if \"kiwi\".startswith(\"k\"):\n",
        "  print(\"Of course kiwi starts with a 'k'\")"
      ],
      "metadata": {
        "id": "ysiWc9tUImsc",
        "colab": {
          "base_uri": "https://localhost:8080/"
        },
        "outputId": "d0bb421a-7fa3-42ab-8e7a-5b0a6c5a8156"
      },
      "execution_count": null,
      "outputs": [
        {
          "output_type": "stream",
          "name": "stdout",
          "text": [
            "Of course kiwi starts with a 'k'\n"
          ]
        }
      ]
    },
    {
      "cell_type": "markdown",
      "source": [
        "3.4 Modifiez le code ci-dessous pour que la phrase s'affiche.  \n",
        "Vous n'avez le droit que de modifier l'emplacement des variables `var_1`, `var_2` et `var_3`.  \n",
        "Aussi, vous pouvez ajoutez des parenthèses pour créer une exception aux priorités opératoires."
      ],
      "metadata": {
        "id": "o2_gf_VmLveE"
      }
    },
    {
      "cell_type": "code",
      "source": [
        "var_1 = 12\n",
        "var_2 = 4\n",
        "var_3 = 2\n",
        "\n",
        "if (var_1 + var_2) / var_3 == 8:\n",
        "  print(\"You can call me 'The MasterMath'.\")"
      ],
      "metadata": {
        "id": "qx6t1A4ULlgB",
        "colab": {
          "base_uri": "https://localhost:8080/"
        },
        "outputId": "c0a1dc1c-6bfc-4784-e8ee-22966c785364"
      },
      "execution_count": null,
      "outputs": [
        {
          "output_type": "stream",
          "name": "stdout",
          "text": [
            "You can call me 'The MasterMath'.\n"
          ]
        }
      ]
    },
    {
      "cell_type": "markdown",
      "source": [
        "3.5 Vous allez maintenant vous familiariser avec la division euclidienne.  \n",
        "Il y a ici deux termes à connaître:\n",
        "* Le reste\n",
        "* Le quotient  \n",
        "\n",
        "Faites vos recherches pour être à l'aise avec ces termes.Aussi, faites vos recherches pour savoir quel symbole permet d'afficher le reste ou le quotient, en python.  \n",
        "Une fois que c'est fait, vous pouvez faire l'exercice suivant:  \n",
        "Parmi ses variables, lesquels ont une valeur divisible par 2, donc un reste égale à 0 ?\n",
        "Pour répondre, vous allez devoir tester chacune des variable, et remplacer \"...\" par le symbole qui convient."
      ],
      "metadata": {
        "id": "swkZ_qKytmHQ"
      }
    },
    {
      "cell_type": "code",
      "source": [
        "var_1 = 3\n",
        "var_2 = 6\n",
        "var_3 = 7\n",
        "var_4 = 14\n",
        "var_5 = 12\n",
        "\n",
        "\n",
        "if var_5 % 2 == 0:\n",
        "  print(f\"On s'exerce ici avec la division euclidienne. Le reste de {var_5} divisé par 2 est égale à 0.\")\n",
        "if var_4 % 2 == 0:\n",
        "  print(f\"On s'exerce ici avec la division euclidienne. Le reste de {var_4} divisé par 2 est égale à 0.\")\n",
        "if var_3 % 2 == 0:\n",
        "  print(f\"On s'exerce ici avec la division euclidienne. Le reste de {var_3} divisé par 2 est égale à 0.\")\n",
        "if var_2 % 2 == 0:\n",
        "  print(f\"On s'exerce ici avec la division euclidienne. Le reste de {var_2} divisé par 2 est égale à 0.\")\n",
        "if var_1 % 2 == 0:\n",
        "  print(f\"On s'exerce ici avec la division euclidienne. Le reste de {var_1} divisé par 2 est égale à 0.\")"
      ],
      "metadata": {
        "colab": {
          "base_uri": "https://localhost:8080/"
        },
        "id": "gvWHafdntbeC",
        "outputId": "e0df163c-65b4-4906-b8e0-5284487dad56"
      },
      "execution_count": null,
      "outputs": [
        {
          "output_type": "stream",
          "name": "stdout",
          "text": [
            "On s'exerce ici avec la division euclidienne. Le reste de 12 divisé par 2 est égale à 0.\n",
            "On s'exerce ici avec la division euclidienne. Le reste de 14 divisé par 2 est égale à 0.\n",
            "On s'exerce ici avec la division euclidienne. Le reste de 6 divisé par 2 est égale à 0.\n"
          ]
        }
      ]
    },
    {
      "cell_type": "markdown",
      "source": [
        "3.6 Cette fois, on veut connaître les variables dont les valeurs ont un quotient supérieur à 5 lorsqu'on divise chaque valeur par 5. Remplacez \"...\" par le code qui convient."
      ],
      "metadata": {
        "id": "8d1__TwEwHyx"
      }
    },
    {
      "cell_type": "code",
      "source": [
        "var_1 = 34\n",
        "var_2 = 37\n",
        "var_3 = 24\n",
        "var_4 = 29\n",
        "var_5 = 31\n",
        "\n",
        "if (var_5 // 5) > 5:\n",
        "  print(f\"On s'exerce ici avec la division euclidienne. Le quotient de var_5 divisé par 5 est égale à {var_5 // 5}.\")\n",
        "if (var_2 // 5) > 5:\n",
        "  print(f\"On s'exerce ici avec la division euclidienne. Le quotient de var_2 divisé par 5 est égale à {var_2 // 5}.\")\n",
        "if (var_1 // 5) > 5:\n",
        "  print(f\"On s'exerce ici avec la division euclidienne. Le quotient de var_1 divisé par 5 est égale à {var_1 // 5}.\")\n",
        "if (var_4 // 5) > 5:\n",
        "  print(f\"On s'exerce ici avec la division euclidienne. Le quotient de var_4 divisé par 5 est égale à {var_4 // 5}.\")\n",
        "if (var_3 // 5) > 5:\n",
        "  print(f\"On s'exerce ici avec la division euclidienne. Le quotient de var_3 divisé par 5 est égale à {var_3 // 5}.\")"
      ],
      "metadata": {
        "id": "iGAcOPkTuXhh",
        "colab": {
          "base_uri": "https://localhost:8080/"
        },
        "outputId": "d13647b9-1cde-4759-ae93-5982b04f50d6"
      },
      "execution_count": null,
      "outputs": [
        {
          "output_type": "stream",
          "name": "stdout",
          "text": [
            "On s'exerce ici avec la division euclidienne. Le quotient de var_5 divisé par 5 est égale à 6.\n",
            "On s'exerce ici avec la division euclidienne. Le quotient de var_2 divisé par 5 est égale à 7.\n",
            "On s'exerce ici avec la division euclidienne. Le quotient de var_1 divisé par 5 est égale à 6.\n"
          ]
        }
      ]
    }
  ]
}